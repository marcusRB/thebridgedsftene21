{
 "cells": [
  {
   "cell_type": "code",
   "execution_count": null,
   "metadata": {},
   "outputs": [],
   "source": [
    "import numpy as np\n",
    "\n",
    "alumnos_clase = ['Ramon', 'Jose', 'Alberto', 'Julia', 'Cristina Martiñan',\n",
    "                 'Cristian', 'Cristina Martinez', 'Javier Melo', 'Mario',\n",
    "                 'Javier Aparicio', 'Arturo', 'Marta', 'Pablo', 'Sonia']\n",
    "\n",
    "def sorteo_par(alumnos):\n",
    "    len_parejas = len(alumnos)\n",
    "    couples = []\n",
    "    \n",
    "    for i in range(int(len_parejas/2)):\n",
    "        uno = np.random.choice(alumnos, 1)[0]\n",
    "        alumnos.remove(uno)\n",
    "\n",
    "        dos = np.random.choice(alumnos, 1)[0]\n",
    "        alumnos.remove(dos)\n",
    "\n",
    "        couples.append((uno, dos))\n",
    "        \n",
    "    return couples, alumnos\n",
    "\n",
    "\n",
    "couples, resto = sorteo_par(alumnos_clase)\n",
    "\n",
    "if len(resto) > 0:\n",
    "    pareja_elegida = np.random.randint(0, len(couples))\n",
    "    couples[pareja_elegida] = couples[pareja_elegida] + (resto[0],)\n",
    "\n",
    "    \n",
    "print(\"PAREJAS DE ALUMNOS\")\n",
    "couples"
   ]
  }
 ],
 "metadata": {
  "kernelspec": {
   "display_name": "Python 3",
   "language": "python",
   "name": "python3"
  },
  "language_info": {
   "codemirror_mode": {
    "name": "ipython",
    "version": 3
   },
   "file_extension": ".py",
   "mimetype": "text/x-python",
   "name": "python",
   "nbconvert_exporter": "python",
   "pygments_lexer": "ipython3",
   "version": "3.8.5"
  }
 },
 "nbformat": 4,
 "nbformat_minor": 4
}
