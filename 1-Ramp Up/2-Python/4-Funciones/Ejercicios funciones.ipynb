{
 "cells": [
  {
   "cell_type": "markdown",
   "metadata": {},
   "source": [
    "![imagen](./img/ejercicios.png)"
   ]
  },
  {
   "cell_type": "markdown",
   "metadata": {},
   "source": [
    "# Ejercicios funciones\n",
    "## Ejercicio 1\n",
    "Escribe una función que convierta números del 1 al 7 en nombres de los dias de la semana. La función constará de un único argumento numérico y una salida de tipo string"
   ]
  },
  {
   "cell_type": "code",
   "execution_count": null,
   "metadata": {},
   "outputs": [],
   "source": [
    "def dia_semana(dia_num):\n",
    "    if dia_num == 1:\n",
    "        return \"Lunes\"\n",
    "    elif dia_num == 2:\n",
    "        return \"Martes\"\n",
    "    elif dia_num == 3:\n",
    "        return \"Miércoles\"\n",
    "    elif dia_num == 4:\n",
    "        return \"Jueves\"\n",
    "    elif dia_num == 5:\n",
    "        return \"Viernes\"\n",
    "    elif dia_num == 6:\n",
    "        return \"Sábado\"\n",
    "    elif dia_num == 7:\n",
    "        return \"Domingo\"\n",
    "    else:\n",
    "        return \"No es un dia de la semana\""
   ]
  },
  {
   "cell_type": "code",
   "execution_count": 2,
   "metadata": {},
   "outputs": [
    {
     "data": {
      "text/plain": [
       "'Lunes'"
      ]
     },
     "execution_count": 2,
     "metadata": {},
     "output_type": "execute_result"
    }
   ],
   "source": [
    "def semana(d):\n",
    "    semana_list = ['Lunes', 'Martes', 'Miércoles', 'Jueves', 'Viernes', 'Sábado', 'Domingo']\n",
    "    return semana_list[d-1]\n",
    "semana(1)"
   ]
  },
  {
   "cell_type": "markdown",
   "metadata": {},
   "source": [
    "## Ejercicio 2\n",
    "En el ejercicio 8 de bucles, creábamos una pirámide invertida, cuyo número de pisos venía determinado por un input del usuario. Crea una función que replique el comportamiento de la pirámide, y utiliza un único parámetro de entrada de la función para determinar el número de filas de la pirámide, es decir, elimina la sentencia input."
   ]
  },
  {
   "cell_type": "code",
   "execution_count": 20,
   "metadata": {},
   "outputs": [
    {
     "data": {
      "text/plain": [
       "[1, 2, 3, 4, 5, 6, 7]"
      ]
     },
     "execution_count": 20,
     "metadata": {},
     "output_type": "execute_result"
    }
   ],
   "source": [
    "list(range(1, 7+1))"
   ]
  },
  {
   "cell_type": "code",
   "execution_count": 19,
   "metadata": {},
   "outputs": [
    {
     "name": "stdout",
     "output_type": "stream",
     "text": [
      "1 2 3 4 5 6 7\n",
      "2 3 4 5 6 7\n",
      "3 4 5 6 7\n",
      "4 5 6 7\n",
      "5 6 7\n",
      "6 7\n",
      "7\n"
     ]
    }
   ],
   "source": [
    "def piramide(filas):\n",
    "\n",
    "    lista = list(range(1, filas+1))\n",
    "\n",
    "    for i in range(len(lista.copy())):\n",
    "        print(*lista)\n",
    "        del lista[0]\n",
    "\n",
    "piramide(7)\n",
    "#piramide(12)"
   ]
  },
  {
   "cell_type": "markdown",
   "metadata": {},
   "source": [
    "## Ejercicio 3\n",
    "Escibe una función que compare dos números. La función tiene dos argumentos y hay tres salidas posibles: que sean iguales, que el primero se  mayor que el segundo, o que el segundo sea mayor que el primero"
   ]
  },
  {
   "cell_type": "code",
   "execution_count": 24,
   "metadata": {},
   "outputs": [
    {
     "name": "stdout",
     "output_type": "stream",
     "text": [
      "Son iguales\n"
     ]
    }
   ],
   "source": [
    "def compare_func(num_1, num_2):\n",
    "    \n",
    "    if num_1 == num_2:\n",
    "        return \"Son iguales\"\n",
    "    elif num_1 > num_2:\n",
    "        return str(num_1) + \" es mayor que \" + str(num_2)\n",
    "    else:\n",
    "        return str(num_2) + \" es mayor que \" + str(num_1)\n",
    "    \n",
    "output = compare_func(2,2)\n",
    "print(output)"
   ]
  },
  {
   "cell_type": "markdown",
   "metadata": {},
   "source": [
    "## Ejercicio 4\n",
    "Escribe una función que sea un contador de letras. En el primer argumento tienes que introducir un texto, y el segundo que sea la letra a contar. La función tiene que devolver un entero con el número de veces que aparece esa letra, tanto mayuscula, como minúscula"
   ]
  },
  {
   "cell_type": "code",
   "execution_count": 27,
   "metadata": {},
   "outputs": [
    {
     "data": {
      "text/plain": [
       "1"
      ]
     },
     "execution_count": 27,
     "metadata": {},
     "output_type": "execute_result"
    }
   ],
   "source": [
    "def letter_count(texto, letra):\n",
    "    texto = texto.lower()\n",
    "    return texto.count(letra.lower())\n",
    "\n",
    "letter_count(\"En esta clase vamos a tope de python\", \"C\")"
   ]
  },
  {
   "cell_type": "markdown",
   "metadata": {},
   "source": [
    "## Ejercicio 5\n",
    "Escribe una función que tenga un único argumento, un string. La salida de la función tiene que ser un diccionario con el conteo de todas las letras de ese string."
   ]
  },
  {
   "cell_type": "code",
   "execution_count": 29,
   "metadata": {
    "collapsed": true,
    "jupyter": {
     "outputs_hidden": true
    }
   },
   "outputs": [
    {
     "data": {
      "text/plain": [
       "{'e': 5,\n",
       " 'n': 2,\n",
       " ' ': 7,\n",
       " 's': 3,\n",
       " 't': 3,\n",
       " 'a': 4,\n",
       " 'c': 1,\n",
       " 'l': 1,\n",
       " 'v': 1,\n",
       " 'm': 1,\n",
       " 'o': 3,\n",
       " 'p': 2,\n",
       " 'd': 1,\n",
       " 'y': 1,\n",
       " 'h': 1}"
      ]
     },
     "execution_count": 29,
     "metadata": {},
     "output_type": "execute_result"
    }
   ],
   "source": [
    "def letter_count_dic(texto):\n",
    "    \n",
    "    all_letters = {}\n",
    "    \n",
    "    for i in texto.lower():\n",
    "        if i in all_letters:\n",
    "            all_letters[i] += 1 # all_letters[i] = all_letters[i] + 1\n",
    "        else:\n",
    "            all_letters[i] = 1\n",
    "            \n",
    "    return all_letters\n",
    "\n",
    "letter_count_dic(\"En esta clase vamos a tope de python\")"
   ]
  },
  {
   "cell_type": "markdown",
   "metadata": {},
   "source": [
    "## Ejercicio 6\n",
    "Escribir una función que añada o elimine elementos en una lista. La función necesita los siguientes argumentos:\n",
    "* lista: la lista donde se añadirán o eliminarán los elementos\n",
    "* comando: \"add\" o \"remove\"\n",
    "* elemento: Por defecto es None."
   ]
  },
  {
   "cell_type": "code",
   "execution_count": 30,
   "metadata": {
    "collapsed": true,
    "jupyter": {
     "outputs_hidden": true
    }
   },
   "outputs": [
    {
     "name": "stdout",
     "output_type": "stream",
     "text": [
      "[1, 2, 3, 9]\n",
      "Añadido el 9999 No se introdujo numero\n",
      "[1, 2, 3, 9999]\n",
      "[1, 3]\n",
      "No has introducido nada a eliminar\n",
      "[1, 2, 3]\n",
      "El elemento 10 no existe en la lista\n",
      "[1, 2, 3]\n",
      "Error\n",
      "[1, 2, 3]\n"
     ]
    }
   ],
   "source": [
    "def listas_program(lista, comando, elemento=None):\n",
    "    if comando == \"add\" and elemento != None:\n",
    "        lista.append(elemento)\n",
    "        \n",
    "    elif comando == \"add\" and elemento == None:\n",
    "        lista.append(9999)\n",
    "        print(\"Añadido el\", 9999, \"No se introdujo numero\")\n",
    "        \n",
    "    elif comando == \"remove\" and elemento != None:\n",
    "        try:\n",
    "            lista.remove(elemento)\n",
    "        except:\n",
    "            print(\"El elemento\", elemento, \"no existe en la lista\")\n",
    "            \n",
    "    elif comando == \"remove\" and elemento == None:\n",
    "        print(\"No has introducido nada a eliminar\")\n",
    "        \n",
    "    else:\n",
    "        print(\"Error\")\n",
    "        \n",
    "    return lista\n",
    "\n",
    "print(listas_program([1,2,3], \"add\", 9))\n",
    "print(listas_program([1,2,3], \"add\"))\n",
    "print(listas_program([1,2,3], \"remove\", 2))\n",
    "print(listas_program([1,2,3], \"remove\"))\n",
    "print(listas_program([1,2,3], \"remove\", 10))\n",
    "print(listas_program([1,2,3], \"addd\", 10))"
   ]
  },
  {
   "cell_type": "markdown",
   "metadata": {},
   "source": [
    "## Ejercicio 7\n",
    "Crea una función que reciba un número arbitrario de palabras, y devuelva una frase completa, separando las palabras con espacios."
   ]
  },
  {
   "cell_type": "code",
   "execution_count": 34,
   "metadata": {},
   "outputs": [
    {
     "data": {
      "text/plain": [
       "'Hola 8 llamo Ralph'"
      ]
     },
     "execution_count": 34,
     "metadata": {},
     "output_type": "execute_result"
    }
   ],
   "source": [
    "def junta_palabras(*args):\n",
    "    return \" \".join(args)\n",
    "\n",
    "junta_palabras(\"Hola\", str(8), \"llamo\", \"Ralph\")"
   ]
  },
  {
   "cell_type": "code",
   "execution_count": 35,
   "metadata": {},
   "outputs": [
    {
     "data": {
      "text/plain": [
       "\"('Hola', 8, 'llamo', 'Ralph')\""
      ]
     },
     "execution_count": 35,
     "metadata": {},
     "output_type": "execute_result"
    }
   ],
   "source": [
    "str((\"Hola\", 8, \"llamo\", \"Ralph\"))"
   ]
  },
  {
   "cell_type": "code",
   "execution_count": 32,
   "metadata": {},
   "outputs": [
    {
     "data": {
      "text/plain": [
       "('Hola', 8, 'llamo', 'Ralph')"
      ]
     },
     "execution_count": 32,
     "metadata": {},
     "output_type": "execute_result"
    }
   ],
   "source": [
    "def junta_palabras(*args):\n",
    "    return args\n",
    "\n",
    "junta_palabras(\"Hola\", 8, \"llamo\", \"Ralph\")"
   ]
  },
  {
   "cell_type": "markdown",
   "metadata": {},
   "source": [
    "## Ejercicio 8\n",
    "Escribe un programa que obtenga el enésimo número de la [serie de Fibonacci](https://es.wikipedia.org/wiki/Sucesi%C3%B3n_de_Fibonacci). Tienes que crear una función recursiva con un único argumento.\n",
    "\n",
    "```Python\n",
    "fibonacci(2) = 1\n",
    "fibonacci(4) = 3\n",
    "fibonacci(5) = 5\n",
    "fibonacci(8) = 21\n",
    "```"
   ]
  },
  {
   "cell_type": "code",
   "execution_count": 40,
   "metadata": {},
   "outputs": [
    {
     "data": {
      "text/plain": [
       "0"
      ]
     },
     "execution_count": 40,
     "metadata": {},
     "output_type": "execute_result"
    }
   ],
   "source": [
    "def fibonacci(n):\n",
    "    \n",
    "    if n == 1 or n == 2:\n",
    "        return 1\n",
    "    \n",
    "    elif n == 0:\n",
    "        return 0\n",
    "    \n",
    "    else:\n",
    "        return fibonacci(n-1) + fibonacci(n-2)\n",
    "    \n",
    "fibonacci(0)"
   ]
  },
  {
   "cell_type": "markdown",
   "metadata": {},
   "source": [
    "## Ejercicio 9\n",
    "Define en una única celda las siguientes funciones:\n",
    "* Función que calcule el área de un cuadrado\n",
    "* Función que calcule el area de un triángulo\n",
    "* Función que calcule el área de un círculo\n",
    "\n",
    "En otra celda, calcular el area de:\n",
    "* Dos círculos de radio 10 + un triángulo de base 3 y altura 7\n",
    "* Un cuadrado de lado = 10 + 3 círculos (uno de radio = 4 y los otros dos de radio = 6) + 5 triángulos de base = 2 + altura = 4"
   ]
  },
  {
   "cell_type": "code",
   "execution_count": 42,
   "metadata": {},
   "outputs": [
    {
     "name": "stdout",
     "output_type": "stream",
     "text": [
      "638.8185307179587\n",
      "396.46015351590177\n"
     ]
    }
   ],
   "source": [
    "import math\n",
    "\n",
    "def cuadrado(lado):\n",
    "    return lado * lado\n",
    "\n",
    "def triangulo(base, altura):\n",
    "    return (base * altura)/2\n",
    "\n",
    "def circulo(radio):\n",
    "    return math.pi * radio**2\n",
    "\n",
    "circ1 = 2 * circulo(10)\n",
    "tria1 = triangulo(3, 7)\n",
    "print(circ1 + tria1)\n",
    "\n",
    "cuadr2 = cuadrado(10)\n",
    "circ2 = circulo(4) + 2*circulo(6)\n",
    "trian2 = 5*triangulo(2,4)\n",
    "print(cuadr2 + circ2 + trian2)"
   ]
  }
 ],
 "metadata": {
  "kernelspec": {
   "display_name": "Python 3",
   "language": "python",
   "name": "python3"
  },
  "language_info": {
   "codemirror_mode": {
    "name": "ipython",
    "version": 3
   },
   "file_extension": ".py",
   "mimetype": "text/x-python",
   "name": "python",
   "nbconvert_exporter": "python",
   "pygments_lexer": "ipython3",
   "version": "3.8.3"
  }
 },
 "nbformat": 4,
 "nbformat_minor": 4
}
