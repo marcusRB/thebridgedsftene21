{
 "cells": [
  {
   "cell_type": "markdown",
   "metadata": {},
   "source": [
    "## Otros modelos"
   ]
  },
  {
   "cell_type": "code",
   "execution_count": 1,
   "metadata": {},
   "outputs": [],
   "source": [
    "import pandas as pd\n",
    "import numpy as np\n",
    "import matplotlib.pyplot as plt"
   ]
  },
  {
   "cell_type": "markdown",
   "metadata": {},
   "source": [
    "Cargamos datos"
   ]
  },
  {
   "cell_type": "code",
   "execution_count": 11,
   "metadata": {},
   "outputs": [
    {
     "name": "stdout",
     "output_type": "stream",
     "text": [
      "84\n"
     ]
    },
    {
     "data": {
      "text/html": [
       "<div>\n",
       "<style scoped>\n",
       "    .dataframe tbody tr th:only-of-type {\n",
       "        vertical-align: middle;\n",
       "    }\n",
       "\n",
       "    .dataframe tbody tr th {\n",
       "        vertical-align: top;\n",
       "    }\n",
       "\n",
       "    .dataframe thead th {\n",
       "        text-align: right;\n",
       "    }\n",
       "</style>\n",
       "<table border=\"1\" class=\"dataframe\">\n",
       "  <thead>\n",
       "    <tr style=\"text-align: right;\">\n",
       "      <th></th>\n",
       "      <th>data</th>\n",
       "    </tr>\n",
       "    <tr>\n",
       "      <th>date</th>\n",
       "      <th></th>\n",
       "    </tr>\n",
       "  </thead>\n",
       "  <tbody>\n",
       "    <tr>\n",
       "      <th>1960-01-01</th>\n",
       "      <td>0.71</td>\n",
       "    </tr>\n",
       "    <tr>\n",
       "      <th>1960-04-01</th>\n",
       "      <td>0.63</td>\n",
       "    </tr>\n",
       "    <tr>\n",
       "      <th>1960-07-02</th>\n",
       "      <td>0.85</td>\n",
       "    </tr>\n",
       "    <tr>\n",
       "      <th>1960-10-01</th>\n",
       "      <td>0.44</td>\n",
       "    </tr>\n",
       "    <tr>\n",
       "      <th>1961-01-01</th>\n",
       "      <td>0.61</td>\n",
       "    </tr>\n",
       "  </tbody>\n",
       "</table>\n",
       "</div>"
      ],
      "text/plain": [
       "            data\n",
       "date            \n",
       "1960-01-01  0.71\n",
       "1960-04-01  0.63\n",
       "1960-07-02  0.85\n",
       "1960-10-01  0.44\n",
       "1961-01-01  0.61"
      ]
     },
     "execution_count": 11,
     "metadata": {},
     "output_type": "execute_result"
    }
   ],
   "source": [
    "df = pd.read_csv('data/jj.csv', index_col=0)\n",
    "print(len(df))\n",
    "df.head()"
   ]
  },
  {
   "cell_type": "code",
   "execution_count": 12,
   "metadata": {},
   "outputs": [
    {
     "data": {
      "image/png": "[encoded data removed]",
      "text/plain": [
       "<Figure size 432x288 with 1 Axes>"
      ]
     },
     "metadata": {
      "needs_background": "light"
     },
     "output_type": "display_data"
    }
   ],
   "source": [
    "df.plot();"
   ]
  },
  {
   "cell_type": "markdown",
   "metadata": {},
   "source": [
    "### Preparamos las features del dataset"
   ]
  },
  {
   "cell_type": "code",
   "execution_count": 13,
   "metadata": {},
   "outputs": [],
   "source": [
    "for i in range(12, 0, -1):\n",
    "    df['t-' + str(i)] = df['data'].shift(i)"
   ]
  },
  {
   "cell_type": "code",
   "execution_count": 16,
   "metadata": {},
   "outputs": [
    {
     "data": {
      "text/html": [
       "<div>\n",
       "<style scoped>\n",
       "    .dataframe tbody tr th:only-of-type {\n",
       "        vertical-align: middle;\n",
       "    }\n",
       "\n",
       "    .dataframe tbody tr th {\n",
       "        vertical-align: top;\n",
       "    }\n",
       "\n",
       "    .dataframe thead th {\n",
       "        text-align: right;\n",
       "    }\n",
       "</style>\n",
       "<table border=\"1\" class=\"dataframe\">\n",
       "  <thead>\n",
       "    <tr style=\"text-align: right;\">\n",
       "      <th></th>\n",
       "      <th>data</th>\n",
       "      <th>t-12</th>\n",
       "      <th>t-11</th>\n",
       "      <th>t-10</th>\n",
       "      <th>t-9</th>\n",
       "      <th>t-8</th>\n",
       "      <th>t-7</th>\n",
       "      <th>t-6</th>\n",
       "      <th>t-5</th>\n",
       "      <th>t-4</th>\n",
       "      <th>t-3</th>\n",
       "      <th>t-2</th>\n",
       "      <th>t-1</th>\n",
       "    </tr>\n",
       "    <tr>\n",
       "      <th>date</th>\n",
       "      <th></th>\n",
       "      <th></th>\n",
       "      <th></th>\n",
       "      <th></th>\n",
       "      <th></th>\n",
       "      <th></th>\n",
       "      <th></th>\n",
       "      <th></th>\n",
       "      <th></th>\n",
       "      <th></th>\n",
       "      <th></th>\n",
       "      <th></th>\n",
       "      <th></th>\n",
       "    </tr>\n",
       "  </thead>\n",
       "  <tbody>\n",
       "    <tr>\n",
       "      <th>1963-01-01</th>\n",
       "      <td>0.83</td>\n",
       "      <td>0.71</td>\n",
       "      <td>0.63</td>\n",
       "      <td>0.85</td>\n",
       "      <td>0.44</td>\n",
       "      <td>0.61</td>\n",
       "      <td>0.69</td>\n",
       "      <td>0.92</td>\n",
       "      <td>0.55</td>\n",
       "      <td>0.72</td>\n",
       "      <td>0.77</td>\n",
       "      <td>0.92</td>\n",
       "      <td>0.60</td>\n",
       "    </tr>\n",
       "    <tr>\n",
       "      <th>1963-04-02</th>\n",
       "      <td>0.80</td>\n",
       "      <td>0.63</td>\n",
       "      <td>0.85</td>\n",
       "      <td>0.44</td>\n",
       "      <td>0.61</td>\n",
       "      <td>0.69</td>\n",
       "      <td>0.92</td>\n",
       "      <td>0.55</td>\n",
       "      <td>0.72</td>\n",
       "      <td>0.77</td>\n",
       "      <td>0.92</td>\n",
       "      <td>0.60</td>\n",
       "      <td>0.83</td>\n",
       "    </tr>\n",
       "    <tr>\n",
       "      <th>1963-07-02</th>\n",
       "      <td>1.00</td>\n",
       "      <td>0.85</td>\n",
       "      <td>0.44</td>\n",
       "      <td>0.61</td>\n",
       "      <td>0.69</td>\n",
       "      <td>0.92</td>\n",
       "      <td>0.55</td>\n",
       "      <td>0.72</td>\n",
       "      <td>0.77</td>\n",
       "      <td>0.92</td>\n",
       "      <td>0.60</td>\n",
       "      <td>0.83</td>\n",
       "      <td>0.80</td>\n",
       "    </tr>\n",
       "    <tr>\n",
       "      <th>1963-10-01</th>\n",
       "      <td>0.77</td>\n",
       "      <td>0.44</td>\n",
       "      <td>0.61</td>\n",
       "      <td>0.69</td>\n",
       "      <td>0.92</td>\n",
       "      <td>0.55</td>\n",
       "      <td>0.72</td>\n",
       "      <td>0.77</td>\n",
       "      <td>0.92</td>\n",
       "      <td>0.60</td>\n",
       "      <td>0.83</td>\n",
       "      <td>0.80</td>\n",
       "      <td>1.00</td>\n",
       "    </tr>\n",
       "    <tr>\n",
       "      <th>1964-01-01</th>\n",
       "      <td>0.92</td>\n",
       "      <td>0.61</td>\n",
       "      <td>0.69</td>\n",
       "      <td>0.92</td>\n",
       "      <td>0.55</td>\n",
       "      <td>0.72</td>\n",
       "      <td>0.77</td>\n",
       "      <td>0.92</td>\n",
       "      <td>0.60</td>\n",
       "      <td>0.83</td>\n",
       "      <td>0.80</td>\n",
       "      <td>1.00</td>\n",
       "      <td>0.77</td>\n",
       "    </tr>\n",
       "    <tr>\n",
       "      <th>1964-04-01</th>\n",
       "      <td>1.00</td>\n",
       "      <td>0.69</td>\n",
       "      <td>0.92</td>\n",
       "      <td>0.55</td>\n",
       "      <td>0.72</td>\n",
       "      <td>0.77</td>\n",
       "      <td>0.92</td>\n",
       "      <td>0.60</td>\n",
       "      <td>0.83</td>\n",
       "      <td>0.80</td>\n",
       "      <td>1.00</td>\n",
       "      <td>0.77</td>\n",
       "      <td>0.92</td>\n",
       "    </tr>\n",
       "    <tr>\n",
       "      <th>1964-07-02</th>\n",
       "      <td>1.24</td>\n",
       "      <td>0.92</td>\n",
       "      <td>0.55</td>\n",
       "      <td>0.72</td>\n",
       "      <td>0.77</td>\n",
       "      <td>0.92</td>\n",
       "      <td>0.60</td>\n",
       "      <td>0.83</td>\n",
       "      <td>0.80</td>\n",
       "      <td>1.00</td>\n",
       "      <td>0.77</td>\n",
       "      <td>0.92</td>\n",
       "      <td>1.00</td>\n",
       "    </tr>\n",
       "    <tr>\n",
       "      <th>1964-10-01</th>\n",
       "      <td>1.00</td>\n",
       "      <td>0.55</td>\n",
       "      <td>0.72</td>\n",
       "      <td>0.77</td>\n",
       "      <td>0.92</td>\n",
       "      <td>0.60</td>\n",
       "      <td>0.83</td>\n",
       "      <td>0.80</td>\n",
       "      <td>1.00</td>\n",
       "      <td>0.77</td>\n",
       "      <td>0.92</td>\n",
       "      <td>1.00</td>\n",
       "      <td>1.24</td>\n",
       "    </tr>\n",
       "    <tr>\n",
       "      <th>1965-01-01</th>\n",
       "      <td>1.16</td>\n",
       "      <td>0.72</td>\n",
       "      <td>0.77</td>\n",
       "      <td>0.92</td>\n",
       "      <td>0.60</td>\n",
       "      <td>0.83</td>\n",
       "      <td>0.80</td>\n",
       "      <td>1.00</td>\n",
       "      <td>0.77</td>\n",
       "      <td>0.92</td>\n",
       "      <td>1.00</td>\n",
       "      <td>1.24</td>\n",
       "      <td>1.00</td>\n",
       "    </tr>\n",
       "    <tr>\n",
       "      <th>1965-04-02</th>\n",
       "      <td>1.30</td>\n",
       "      <td>0.77</td>\n",
       "      <td>0.92</td>\n",
       "      <td>0.60</td>\n",
       "      <td>0.83</td>\n",
       "      <td>0.80</td>\n",
       "      <td>1.00</td>\n",
       "      <td>0.77</td>\n",
       "      <td>0.92</td>\n",
       "      <td>1.00</td>\n",
       "      <td>1.24</td>\n",
       "      <td>1.00</td>\n",
       "      <td>1.16</td>\n",
       "    </tr>\n",
       "    <tr>\n",
       "      <th>1965-07-02</th>\n",
       "      <td>1.45</td>\n",
       "      <td>0.92</td>\n",
       "      <td>0.60</td>\n",
       "      <td>0.83</td>\n",
       "      <td>0.80</td>\n",
       "      <td>1.00</td>\n",
       "      <td>0.77</td>\n",
       "      <td>0.92</td>\n",
       "      <td>1.00</td>\n",
       "      <td>1.24</td>\n",
       "      <td>1.00</td>\n",
       "      <td>1.16</td>\n",
       "      <td>1.30</td>\n",
       "    </tr>\n",
       "    <tr>\n",
       "      <th>1965-10-01</th>\n",
       "      <td>1.25</td>\n",
       "      <td>0.60</td>\n",
       "      <td>0.83</td>\n",
       "      <td>0.80</td>\n",
       "      <td>1.00</td>\n",
       "      <td>0.77</td>\n",
       "      <td>0.92</td>\n",
       "      <td>1.00</td>\n",
       "      <td>1.24</td>\n",
       "      <td>1.00</td>\n",
       "      <td>1.16</td>\n",
       "      <td>1.30</td>\n",
       "      <td>1.45</td>\n",
       "    </tr>\n",
       "    <tr>\n",
       "      <th>1966-01-01</th>\n",
       "      <td>1.26</td>\n",
       "      <td>0.83</td>\n",
       "      <td>0.80</td>\n",
       "      <td>1.00</td>\n",
       "      <td>0.77</td>\n",
       "      <td>0.92</td>\n",
       "      <td>1.00</td>\n",
       "      <td>1.24</td>\n",
       "      <td>1.00</td>\n",
       "      <td>1.16</td>\n",
       "      <td>1.30</td>\n",
       "      <td>1.45</td>\n",
       "      <td>1.25</td>\n",
       "    </tr>\n",
       "    <tr>\n",
       "      <th>1966-04-02</th>\n",
       "      <td>1.38</td>\n",
       "      <td>0.80</td>\n",
       "      <td>1.00</td>\n",
       "      <td>0.77</td>\n",
       "      <td>0.92</td>\n",
       "      <td>1.00</td>\n",
       "      <td>1.24</td>\n",
       "      <td>1.00</td>\n",
       "      <td>1.16</td>\n",
       "      <td>1.30</td>\n",
       "      <td>1.45</td>\n",
       "      <td>1.25</td>\n",
       "      <td>1.26</td>\n",
       "    </tr>\n",
       "    <tr>\n",
       "      <th>1966-07-02</th>\n",
       "      <td>1.86</td>\n",
       "      <td>1.00</td>\n",
       "      <td>0.77</td>\n",
       "      <td>0.92</td>\n",
       "      <td>1.00</td>\n",
       "      <td>1.24</td>\n",
       "      <td>1.00</td>\n",
       "      <td>1.16</td>\n",
       "      <td>1.30</td>\n",
       "      <td>1.45</td>\n",
       "      <td>1.25</td>\n",
       "      <td>1.26</td>\n",
       "      <td>1.38</td>\n",
       "    </tr>\n",
       "    <tr>\n",
       "      <th>1966-10-01</th>\n",
       "      <td>1.56</td>\n",
       "      <td>0.77</td>\n",
       "      <td>0.92</td>\n",
       "      <td>1.00</td>\n",
       "      <td>1.24</td>\n",
       "      <td>1.00</td>\n",
       "      <td>1.16</td>\n",
       "      <td>1.30</td>\n",
       "      <td>1.45</td>\n",
       "      <td>1.25</td>\n",
       "      <td>1.26</td>\n",
       "      <td>1.38</td>\n",
       "      <td>1.86</td>\n",
       "    </tr>\n",
       "    <tr>\n",
       "      <th>1967-01-01</th>\n",
       "      <td>1.53</td>\n",
       "      <td>0.92</td>\n",
       "      <td>1.00</td>\n",
       "      <td>1.24</td>\n",
       "      <td>1.00</td>\n",
       "      <td>1.16</td>\n",
       "      <td>1.30</td>\n",
       "      <td>1.45</td>\n",
       "      <td>1.25</td>\n",
       "      <td>1.26</td>\n",
       "      <td>1.38</td>\n",
       "      <td>1.86</td>\n",
       "      <td>1.56</td>\n",
       "    </tr>\n",
       "    <tr>\n",
       "      <th>1967-04-02</th>\n",
       "      <td>1.59</td>\n",
       "      <td>1.00</td>\n",
       "      <td>1.24</td>\n",
       "      <td>1.00</td>\n",
       "      <td>1.16</td>\n",
       "      <td>1.30</td>\n",
       "      <td>1.45</td>\n",
       "      <td>1.25</td>\n",
       "      <td>1.26</td>\n",
       "      <td>1.38</td>\n",
       "      <td>1.86</td>\n",
       "      <td>1.56</td>\n",
       "      <td>1.53</td>\n",
       "    </tr>\n",
       "    <tr>\n",
       "      <th>1967-07-02</th>\n",
       "      <td>1.83</td>\n",
       "      <td>1.24</td>\n",
       "      <td>1.00</td>\n",
       "      <td>1.16</td>\n",
       "      <td>1.30</td>\n",
       "      <td>1.45</td>\n",
       "      <td>1.25</td>\n",
       "      <td>1.26</td>\n",
       "      <td>1.38</td>\n",
       "      <td>1.86</td>\n",
       "      <td>1.56</td>\n",
       "      <td>1.53</td>\n",
       "      <td>1.59</td>\n",
       "    </tr>\n",
       "    <tr>\n",
       "      <th>1967-10-01</th>\n",
       "      <td>1.86</td>\n",
       "      <td>1.00</td>\n",
       "      <td>1.16</td>\n",
       "      <td>1.30</td>\n",
       "      <td>1.45</td>\n",
       "      <td>1.25</td>\n",
       "      <td>1.26</td>\n",
       "      <td>1.38</td>\n",
       "      <td>1.86</td>\n",
       "      <td>1.56</td>\n",
       "      <td>1.53</td>\n",
       "      <td>1.59</td>\n",
       "      <td>1.83</td>\n",
       "    </tr>\n",
       "  </tbody>\n",
       "</table>\n",
       "</div>"
      ],
      "text/plain": [
       "            data  t-12  t-11  t-10   t-9   t-8   t-7   t-6   t-5   t-4   t-3  \\\n",
       "date                                                                           \n",
       "1963-01-01  0.83  0.71  0.63  0.85  0.44  0.61  0.69  0.92  0.55  0.72  0.77   \n",
       "1963-04-02  0.80  0.63  0.85  0.44  0.61  0.69  0.92  0.55  0.72  0.77  0.92   \n",
       "1963-07-02  1.00  0.85  0.44  0.61  0.69  0.92  0.55  0.72  0.77  0.92  0.60   \n",
       "1963-10-01  0.77  0.44  0.61  0.69  0.92  0.55  0.72  0.77  0.92  0.60  0.83   \n",
       "1964-01-01  0.92  0.61  0.69  0.92  0.55  0.72  0.77  0.92  0.60  0.83  0.80   \n",
       "1964-04-01  1.00  0.69  0.92  0.55  0.72  0.77  0.92  0.60  0.83  0.80  1.00   \n",
       "1964-07-02  1.24  0.92  0.55  0.72  0.77  0.92  0.60  0.83  0.80  1.00  0.77   \n",
       "1964-10-01  1.00  0.55  0.72  0.77  0.92  0.60  0.83  0.80  1.00  0.77  0.92   \n",
       "1965-01-01  1.16  0.72  0.77  0.92  0.60  0.83  0.80  1.00  0.77  0.92  1.00   \n",
       "1965-04-02  1.30  0.77  0.92  0.60  0.83  0.80  1.00  0.77  0.92  1.00  1.24   \n",
       "1965-07-02  1.45  0.92  0.60  0.83  0.80  1.00  0.77  0.92  1.00  1.24  1.00   \n",
       "1965-10-01  1.25  0.60  0.83  0.80  1.00  0.77  0.92  1.00  1.24  1.00  1.16   \n",
       "1966-01-01  1.26  0.83  0.80  1.00  0.77  0.92  1.00  1.24  1.00  1.16  1.30   \n",
       "1966-04-02  1.38  0.80  1.00  0.77  0.92  1.00  1.24  1.00  1.16  1.30  1.45   \n",
       "1966-07-02  1.86  1.00  0.77  0.92  1.00  1.24  1.00  1.16  1.30  1.45  1.25   \n",
       "1966-10-01  1.56  0.77  0.92  1.00  1.24  1.00  1.16  1.30  1.45  1.25  1.26   \n",
       "1967-01-01  1.53  0.92  1.00  1.24  1.00  1.16  1.30  1.45  1.25  1.26  1.38   \n",
       "1967-04-02  1.59  1.00  1.24  1.00  1.16  1.30  1.45  1.25  1.26  1.38  1.86   \n",
       "1967-07-02  1.83  1.24  1.00  1.16  1.30  1.45  1.25  1.26  1.38  1.86  1.56   \n",
       "1967-10-01  1.86  1.00  1.16  1.30  1.45  1.25  1.26  1.38  1.86  1.56  1.53   \n",
       "\n",
       "             t-2   t-1  \n",
       "date                    \n",
       "1963-01-01  0.92  0.60  \n",
       "1963-04-02  0.60  0.83  \n",
       "1963-07-02  0.83  0.80  \n",
       "1963-10-01  0.80  1.00  \n",
       "1964-01-01  1.00  0.77  \n",
       "1964-04-01  0.77  0.92  \n",
       "1964-07-02  0.92  1.00  \n",
       "1964-10-01  1.00  1.24  \n",
       "1965-01-01  1.24  1.00  \n",
       "1965-04-02  1.00  1.16  \n",
       "1965-07-02  1.16  1.30  \n",
       "1965-10-01  1.30  1.45  \n",
       "1966-01-01  1.45  1.25  \n",
       "1966-04-02  1.25  1.26  \n",
       "1966-07-02  1.26  1.38  \n",
       "1966-10-01  1.38  1.86  \n",
       "1967-01-01  1.86  1.56  \n",
       "1967-04-02  1.56  1.53  \n",
       "1967-07-02  1.53  1.59  \n",
       "1967-10-01  1.59  1.83  "
      ]
     },
     "execution_count": 16,
     "metadata": {},
     "output_type": "execute_result"
    }
   ],
   "source": [
    "df.dropna(inplace=True)\n",
    "df.head(20)"
   ]
  },
  {
   "cell_type": "markdown",
   "metadata": {},
   "source": [
    "### Dividimos en train test"
   ]
  },
  {
   "cell_type": "code",
   "execution_count": 17,
   "metadata": {},
   "outputs": [
    {
     "name": "stdout",
     "output_type": "stream",
     "text": [
      "Shape X_train: (60, 12)\n",
      "Shape X_test: (12, 12)\n",
      "Shape y_train: (60,)\n",
      "Shape y_test: (12,)\n"
     ]
    }
   ],
   "source": [
    "X = df.iloc[:, 1:].values\n",
    "Y = df.iloc[:, 0].values\n",
    "\n",
    "X_train = X[:60]\n",
    "X_test = X[60:]\n",
    "y_train = Y[:60]\n",
    "y_test = Y[60:]\n",
    "\n",
    "print(\"Shape X_train:\", X_train.shape)\n",
    "print(\"Shape X_test:\", X_test.shape)\n",
    "print(\"Shape y_train:\", y_train.shape)\n",
    "print(\"Shape y_test:\", y_test.shape)"
   ]
  },
  {
   "cell_type": "markdown",
   "metadata": {},
   "source": [
    "### Creamos el árbol de decisión"
   ]
  },
  {
   "cell_type": "code",
   "execution_count": 19,
   "metadata": {},
   "outputs": [
    {
     "data": {
      "text/plain": [
       "DecisionTreeRegressor()"
      ]
     },
     "execution_count": 19,
     "metadata": {},
     "output_type": "execute_result"
    }
   ],
   "source": [
    "from sklearn.tree import DecisionTreeRegressor\n",
    "\n",
    "tree = DecisionTreeRegressor()\n",
    "\n",
    "tree.fit(X_train, y_train)"
   ]
  },
  {
   "cell_type": "code",
   "execution_count": 23,
   "metadata": {},
   "outputs": [
    {
     "data": {
      "text/plain": [
       "array([[ 6.93    ,  7.74    ,  7.83    ,  6.12    ,  7.74    ,  8.91    ,\n",
       "         8.28    ,  6.84    ,  9.54    , 10.26    ,  9.54    ,  8.729999],\n",
       "       [ 7.74    ,  7.83    ,  6.12    ,  7.74    ,  8.91    ,  8.28    ,\n",
       "         6.84    ,  9.54    , 10.26    ,  9.54    ,  8.729999, 11.88    ],\n",
       "       [ 7.83    ,  6.12    ,  7.74    ,  8.91    ,  8.28    ,  6.84    ,\n",
       "         9.54    , 10.26    ,  9.54    ,  8.729999, 11.88    , 12.06    ],\n",
       "       [ 6.12    ,  7.74    ,  8.91    ,  8.28    ,  6.84    ,  9.54    ,\n",
       "        10.26    ,  9.54    ,  8.729999, 11.88    , 12.06    , 12.15    ],\n",
       "       [ 7.74    ,  8.91    ,  8.28    ,  6.84    ,  9.54    , 10.26    ,\n",
       "         9.54    ,  8.729999, 11.88    , 12.06    , 12.15    ,  8.91    ],\n",
       "       [ 8.91    ,  8.28    ,  6.84    ,  9.54    , 10.26    ,  9.54    ,\n",
       "         8.729999, 11.88    , 12.06    , 12.15    ,  8.91    , 14.04    ],\n",
       "       [ 8.28    ,  6.84    ,  9.54    , 10.26    ,  9.54    ,  8.729999,\n",
       "        11.88    , 12.06    , 12.15    ,  8.91    , 14.04    , 12.96    ],\n",
       "       [ 6.84    ,  9.54    , 10.26    ,  9.54    ,  8.729999, 11.88    ,\n",
       "        12.06    , 12.15    ,  8.91    , 14.04    , 12.96    , 14.85    ],\n",
       "       [ 9.54    , 10.26    ,  9.54    ,  8.729999, 11.88    , 12.06    ,\n",
       "        12.15    ,  8.91    , 14.04    , 12.96    , 14.85    ,  9.99    ],\n",
       "       [10.26    ,  9.54    ,  8.729999, 11.88    , 12.06    , 12.15    ,\n",
       "         8.91    , 14.04    , 12.96    , 14.85    ,  9.99    , 16.2     ],\n",
       "       [ 9.54    ,  8.729999, 11.88    , 12.06    , 12.15    ,  8.91    ,\n",
       "        14.04    , 12.96    , 14.85    ,  9.99    , 16.2     , 14.67    ],\n",
       "       [ 8.729999, 11.88    , 12.06    , 12.15    ,  8.91    , 14.04    ,\n",
       "        12.96    , 14.85    ,  9.99    , 16.2     , 14.67    , 16.02    ]])"
      ]
     },
     "execution_count": 23,
     "metadata": {},
     "output_type": "execute_result"
    }
   ],
   "source": [
    "X_test"
   ]
  },
  {
   "cell_type": "code",
   "execution_count": 20,
   "metadata": {},
   "outputs": [
    {
     "name": "stdout",
     "output_type": "stream",
     "text": [
      "MSE: 16.479450000000003\n",
      "RMSE: 4.059488884083808\n"
     ]
    }
   ],
   "source": [
    "from sklearn.metrics import mean_squared_error\n",
    "\n",
    "print(\"MSE:\", mean_squared_error(tree.predict(X_test), y_test))\n",
    "print(\"RMSE:\", np.sqrt(mean_squared_error(tree.predict(X_test), y_test)))"
   ]
  },
  {
   "cell_type": "code",
   "execution_count": 22,
   "metadata": {},
   "outputs": [
    {
     "data": {
      "image/png": "[encoded data removed]",
      "text/plain": [
       "<Figure size 432x288 with 1 Axes>"
      ]
     },
     "metadata": {
      "needs_background": "light"
     },
     "output_type": "display_data"
    }
   ],
   "source": [
    "df['data'].plot();"
   ]
  },
  {
   "cell_type": "markdown",
   "metadata": {},
   "source": [
    "### Representamos las predicciones"
   ]
  },
  {
   "cell_type": "code",
   "execution_count": 24,
   "metadata": {},
   "outputs": [
    {
     "data": {
      "text/plain": [
       "array([[ 6.93    ,  7.74    ,  7.83    ,  6.12    ,  7.74    ,  8.91    ,\n",
       "         8.28    ,  6.84    ,  9.54    , 10.26    ,  9.54    ,  8.729999],\n",
       "       [ 7.74    ,  7.83    ,  6.12    ,  7.74    ,  8.91    ,  8.28    ,\n",
       "         6.84    ,  9.54    , 10.26    ,  9.54    ,  8.729999, 11.88    ],\n",
       "       [ 7.83    ,  6.12    ,  7.74    ,  8.91    ,  8.28    ,  6.84    ,\n",
       "         9.54    , 10.26    ,  9.54    ,  8.729999, 11.88    , 12.06    ]])"
      ]
     },
     "execution_count": 24,
     "metadata": {},
     "output_type": "execute_result"
    }
   ],
   "source": [
    "X_test[:3]"
   ]
  },
  {
   "cell_type": "code",
   "execution_count": 25,
   "metadata": {},
   "outputs": [],
   "source": [
    "def prediction(model, x_test):\n",
    "    preds = x_test[0]\n",
    "    preds_out = []\n",
    "    \n",
    "    for i in range(len(X_test)):\n",
    "        pred = model.predict([preds])[0]\n",
    "        preds_out.append(pred)\n",
    "\n",
    "        preds2 = np.array([preds[1:]]) # Quitamos t-12, ya no se usa\n",
    "        \n",
    "        '''\n",
    "        Concatenamos la nueva, es decir, el nuevo t-1\n",
    "        '''\n",
    "        preds = np.c_[preds2, np.array([pred])][0]\n",
    "    return preds_out\n"
   ]
  },
  {
   "cell_type": "code",
   "execution_count": 26,
   "metadata": {},
   "outputs": [
    {
     "data": {
      "text/plain": [
       "[9.54, 9.54, 9.54, 10.26, 9.54, 9.54, 9.54, 9.54, 9.54, 9.54, 9.54, 9.54]"
      ]
     },
     "execution_count": 26,
     "metadata": {},
     "output_type": "execute_result"
    }
   ],
   "source": [
    "preds = prediction(tree, X_test)\n",
    "preds"
   ]
  },
  {
   "cell_type": "code",
   "execution_count": 27,
   "metadata": {},
   "outputs": [
    {
     "name": "stdout",
     "output_type": "stream",
     "text": [
      "MSE: 16.479450000000003\n",
      "RMSE: 4.059488884083808\n"
     ]
    }
   ],
   "source": [
    "print(\"MSE:\", mean_squared_error(y_test, preds))\n",
    "print(\"RMSE:\", np.sqrt(mean_squared_error(y_test, preds)))"
   ]
  },
  {
   "cell_type": "code",
   "execution_count": 28,
   "metadata": {},
   "outputs": [
    {
     "data": {
      "image/png": "[encoded data removed]",
      "text/plain": [
       "<Figure size 432x288 with 1 Axes>"
      ]
     },
     "metadata": {
      "needs_background": "light"
     },
     "output_type": "display_data"
    }
   ],
   "source": [
    "plt.plot(y_test);\n",
    "plt.plot(prediction(tree, X_test), color='red');"
   ]
  },
  {
   "cell_type": "markdown",
   "metadata": {},
   "source": [
    "### Probamos con un RandomForest"
   ]
  },
  {
   "cell_type": "code",
   "execution_count": 30,
   "metadata": {},
   "outputs": [
    {
     "data": {
      "text/plain": [
       "RandomForestRegressor(max_depth=5, n_estimators=200)"
      ]
     },
     "execution_count": 30,
     "metadata": {},
     "output_type": "execute_result"
    }
   ],
   "source": [
    "from sklearn.ensemble import RandomForestRegressor\n",
    "\n",
    "rfr = RandomForestRegressor(n_estimators = 200, max_depth = 5)\n",
    "rfr.fit(X_train, y_train)"
   ]
  },
  {
   "cell_type": "code",
   "execution_count": 31,
   "metadata": {},
   "outputs": [
    {
     "name": "stdout",
     "output_type": "stream",
     "text": [
      "MSE: 15.935768459928177\n",
      "RMSE: 3.991962983286315\n"
     ]
    }
   ],
   "source": [
    "preds = prediction(rfr, X_test)\n",
    "\n",
    "print(\"MSE:\", mean_squared_error(y_test, preds))\n",
    "print(\"RMSE:\", np.sqrt(mean_squared_error(y_test, preds)))"
   ]
  },
  {
   "cell_type": "markdown",
   "metadata": {},
   "source": [
    "## Probamos también una regresión lineal"
   ]
  },
  {
   "cell_type": "code",
   "execution_count": 32,
   "metadata": {},
   "outputs": [
    {
     "name": "stdout",
     "output_type": "stream",
     "text": [
      "MSE: 1.3371420639448248\n",
      "RMSE: 1.156348591016059\n"
     ]
    }
   ],
   "source": [
    "from sklearn.linear_model import LinearRegression\n",
    "\n",
    "lin_reg = LinearRegression()  # n_estimators is the number of trees in forest\n",
    "lin_reg.fit(X_train, y_train)\n",
    "\n",
    "print(\"MSE:\", mean_squared_error(lin_reg.predict(X_test), y_test))\n",
    "print(\"RMSE:\", np.sqrt(mean_squared_error(lin_reg.predict(X_test), y_test)))"
   ]
  },
  {
   "cell_type": "code",
   "execution_count": 33,
   "metadata": {},
   "outputs": [
    {
     "name": "stdout",
     "output_type": "stream",
     "text": [
      "MSE: 2.21791665161966\n",
      "RMSE: 1.489267152534984\n"
     ]
    }
   ],
   "source": [
    "preds = prediction(lin_reg, X_test)\n",
    "\n",
    "print(\"MSE:\", mean_squared_error(y_test, preds))\n",
    "print(\"RMSE:\", np.sqrt(mean_squared_error(y_test, preds)))"
   ]
  },
  {
   "cell_type": "code",
   "execution_count": 34,
   "metadata": {},
   "outputs": [
    {
     "data": {
      "image/png": "[encoded data removed]",
      "text/plain": [
       "<Figure size 432x288 with 1 Axes>"
      ]
     },
     "metadata": {
      "needs_background": "light"
     },
     "output_type": "display_data"
    }
   ],
   "source": [
    "plt.plot(y_test);\n",
    "plt.plot(lin_reg.predict(X_test), color='red');"
   ]
  },
  {
   "cell_type": "code",
   "execution_count": 35,
   "metadata": {},
   "outputs": [
    {
     "data": {
      "text/plain": [
       "array([11.88, 12.06, 12.15,  8.91, 14.04, 12.96, 14.85,  9.99, 16.2 ,\n",
       "       14.67, 16.02, 11.61])"
      ]
     },
     "execution_count": 35,
     "metadata": {},
     "output_type": "execute_result"
    }
   ],
   "source": [
    "y_test"
   ]
  },
  {
   "cell_type": "code",
   "execution_count": 36,
   "metadata": {},
   "outputs": [
    {
     "data": {
      "image/png": "[encoded data removed]",
      "text/plain": [
       "<Figure size 432x288 with 1 Axes>"
      ]
     },
     "metadata": {
      "needs_background": "light"
     },
     "output_type": "display_data"
    }
   ],
   "source": [
    "plt.plot(y_test);\n",
    "plt.plot(prediction(lin_reg, X_test), color='red');"
   ]
  },
  {
   "cell_type": "code",
   "execution_count": null,
   "metadata": {},
   "outputs": [],
   "source": []
  }
 ],
 "metadata": {
  "kernelspec": {
   "display_name": "Python 3",
   "language": "python",
   "name": "python3"
  },
  "language_info": {
   "codemirror_mode": {
    "name": "ipython",
    "version": 3
   },
   "file_extension": ".py",
   "mimetype": "text/x-python",
   "name": "python",
   "nbconvert_exporter": "python",
   "pygments_lexer": "ipython3",
   "version": "3.8.5"
  }
 },
 "nbformat": 4,
 "nbformat_minor": 4
}
