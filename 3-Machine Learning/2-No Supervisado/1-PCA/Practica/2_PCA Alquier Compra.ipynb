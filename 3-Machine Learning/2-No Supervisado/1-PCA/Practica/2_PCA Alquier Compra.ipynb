{
 "cells": [
  {
   "cell_type": "markdown",
   "metadata": {},
   "source": [
    "# Ejercicio PCA (Principal Component Analysis)\n",
    "En este ejercicio vas a trabajar con un dataset de información de ciudadanos como el estado civil, número de hijos, qué gastos e ingresos tiene, etc...\n",
    "\n",
    "Se cuenta con un target, que es si el ciudadano va a alquilar o a comprar una vivienda. Para ello,  con PCA"
   ]
  },
  {
   "cell_type": "markdown",
   "metadata": {},
   "source": [
    "### Importamos librerias\n",
    "Principales librerías que usarás durante el notebook."
   ]
  },
  {
   "cell_type": "code",
   "execution_count": 1,
   "metadata": {
    "ExecuteTime": {
     "end_time": "2018-10-08T14:32:36.607020Z",
     "start_time": "2018-10-08T14:32:28.345589Z"
    }
   },
   "outputs": [],
   "source": [
    "import pandas as pd\n",
    "import numpy as np\n",
    "import matplotlib.pyplot as plt\n",
    "%matplotlib inline\n",
    "plt.rcParams['figure.figsize'] = (16, 9)\n",
    "plt.style.use('ggplot')\n",
    "\n",
    "from sklearn.decomposition import PCA\n",
    "from sklearn.preprocessing import StandardScaler\n",
    "from sklearn.pipeline import Pipeline\n",
    "from sklearn.model_selection import GridSearchCV\n",
    "\n",
    "from sklearn.model_selection import train_test_split\n",
    "from sklearn.metrics import classification_report\n",
    "from sklearn.metrics import confusion_matrix\n",
    "from sklearn.neighbors import KNeighborsClassifier"
   ]
  },
  {
   "cell_type": "markdown",
   "metadata": {},
   "source": [
    "### Cargamos datos de entrada\n",
    "1. Carga el csv *comprar_alquilar.csv*\n",
    "2. Obtén la información básica: columnas, dimensiones, descripción de las variables, missings..."
   ]
  },
  {
   "cell_type": "code",
   "execution_count": 2,
   "metadata": {
    "ExecuteTime": {
     "end_time": "2018-10-08T14:32:36.786815Z",
     "start_time": "2018-10-08T14:32:36.610868Z"
    }
   },
   "outputs": [
    {
     "data": {
      "text/html": [
       "<div>\n",
       "<style scoped>\n",
       "    .dataframe tbody tr th:only-of-type {\n",
       "        vertical-align: middle;\n",
       "    }\n",
       "\n",
       "    .dataframe tbody tr th {\n",
       "        vertical-align: top;\n",
       "    }\n",
       "\n",
       "    .dataframe thead th {\n",
       "        text-align: right;\n",
       "    }\n",
       "</style>\n",
       "<table border=\"1\" class=\"dataframe\">\n",
       "  <thead>\n",
       "    <tr style=\"text-align: right;\">\n",
       "      <th></th>\n",
       "      <th>ingresos</th>\n",
       "      <th>gastos_comunes</th>\n",
       "      <th>pago_coche</th>\n",
       "      <th>gastos_otros</th>\n",
       "      <th>ahorros</th>\n",
       "      <th>vivienda</th>\n",
       "      <th>estado_civil</th>\n",
       "      <th>hijos</th>\n",
       "      <th>trabajo</th>\n",
       "      <th>comprar</th>\n",
       "    </tr>\n",
       "  </thead>\n",
       "  <tbody>\n",
       "    <tr>\n",
       "      <th>0</th>\n",
       "      <td>6000</td>\n",
       "      <td>1000</td>\n",
       "      <td>0</td>\n",
       "      <td>600</td>\n",
       "      <td>50000</td>\n",
       "      <td>400000</td>\n",
       "      <td>0</td>\n",
       "      <td>2</td>\n",
       "      <td>2</td>\n",
       "      <td>1</td>\n",
       "    </tr>\n",
       "    <tr>\n",
       "      <th>1</th>\n",
       "      <td>6745</td>\n",
       "      <td>944</td>\n",
       "      <td>123</td>\n",
       "      <td>429</td>\n",
       "      <td>43240</td>\n",
       "      <td>636897</td>\n",
       "      <td>1</td>\n",
       "      <td>3</td>\n",
       "      <td>6</td>\n",
       "      <td>0</td>\n",
       "    </tr>\n",
       "    <tr>\n",
       "      <th>2</th>\n",
       "      <td>6455</td>\n",
       "      <td>1033</td>\n",
       "      <td>98</td>\n",
       "      <td>795</td>\n",
       "      <td>57463</td>\n",
       "      <td>321779</td>\n",
       "      <td>2</td>\n",
       "      <td>1</td>\n",
       "      <td>8</td>\n",
       "      <td>1</td>\n",
       "    </tr>\n",
       "    <tr>\n",
       "      <th>3</th>\n",
       "      <td>7098</td>\n",
       "      <td>1278</td>\n",
       "      <td>15</td>\n",
       "      <td>254</td>\n",
       "      <td>54506</td>\n",
       "      <td>660933</td>\n",
       "      <td>0</td>\n",
       "      <td>0</td>\n",
       "      <td>3</td>\n",
       "      <td>0</td>\n",
       "    </tr>\n",
       "    <tr>\n",
       "      <th>4</th>\n",
       "      <td>6167</td>\n",
       "      <td>863</td>\n",
       "      <td>223</td>\n",
       "      <td>520</td>\n",
       "      <td>41512</td>\n",
       "      <td>348932</td>\n",
       "      <td>0</td>\n",
       "      <td>0</td>\n",
       "      <td>3</td>\n",
       "      <td>1</td>\n",
       "    </tr>\n",
       "    <tr>\n",
       "      <th>5</th>\n",
       "      <td>5692</td>\n",
       "      <td>911</td>\n",
       "      <td>11</td>\n",
       "      <td>325</td>\n",
       "      <td>50875</td>\n",
       "      <td>360863</td>\n",
       "      <td>1</td>\n",
       "      <td>4</td>\n",
       "      <td>5</td>\n",
       "      <td>1</td>\n",
       "    </tr>\n",
       "    <tr>\n",
       "      <th>6</th>\n",
       "      <td>6830</td>\n",
       "      <td>1298</td>\n",
       "      <td>345</td>\n",
       "      <td>309</td>\n",
       "      <td>46761</td>\n",
       "      <td>429812</td>\n",
       "      <td>1</td>\n",
       "      <td>1</td>\n",
       "      <td>5</td>\n",
       "      <td>1</td>\n",
       "    </tr>\n",
       "    <tr>\n",
       "      <th>7</th>\n",
       "      <td>6470</td>\n",
       "      <td>1035</td>\n",
       "      <td>39</td>\n",
       "      <td>782</td>\n",
       "      <td>57439</td>\n",
       "      <td>606291</td>\n",
       "      <td>0</td>\n",
       "      <td>0</td>\n",
       "      <td>1</td>\n",
       "      <td>0</td>\n",
       "    </tr>\n",
       "    <tr>\n",
       "      <th>8</th>\n",
       "      <td>6251</td>\n",
       "      <td>1250</td>\n",
       "      <td>209</td>\n",
       "      <td>571</td>\n",
       "      <td>50503</td>\n",
       "      <td>291010</td>\n",
       "      <td>0</td>\n",
       "      <td>0</td>\n",
       "      <td>3</td>\n",
       "      <td>1</td>\n",
       "    </tr>\n",
       "    <tr>\n",
       "      <th>9</th>\n",
       "      <td>6987</td>\n",
       "      <td>1258</td>\n",
       "      <td>252</td>\n",
       "      <td>245</td>\n",
       "      <td>40611</td>\n",
       "      <td>324098</td>\n",
       "      <td>2</td>\n",
       "      <td>1</td>\n",
       "      <td>7</td>\n",
       "      <td>1</td>\n",
       "    </tr>\n",
       "  </tbody>\n",
       "</table>\n",
       "</div>"
      ],
      "text/plain": [
       "   ingresos  gastos_comunes  pago_coche  gastos_otros  ahorros  vivienda  \\\n",
       "0      6000            1000           0           600    50000    400000   \n",
       "1      6745             944         123           429    43240    636897   \n",
       "2      6455            1033          98           795    57463    321779   \n",
       "3      7098            1278          15           254    54506    660933   \n",
       "4      6167             863         223           520    41512    348932   \n",
       "5      5692             911          11           325    50875    360863   \n",
       "6      6830            1298         345           309    46761    429812   \n",
       "7      6470            1035          39           782    57439    606291   \n",
       "8      6251            1250         209           571    50503    291010   \n",
       "9      6987            1258         252           245    40611    324098   \n",
       "\n",
       "   estado_civil  hijos  trabajo  comprar  \n",
       "0             0      2        2        1  \n",
       "1             1      3        6        0  \n",
       "2             2      1        8        1  \n",
       "3             0      0        3        0  \n",
       "4             0      0        3        1  \n",
       "5             1      4        5        1  \n",
       "6             1      1        5        1  \n",
       "7             0      0        1        0  \n",
       "8             0      0        3        1  \n",
       "9             2      1        7        1  "
      ]
     },
     "execution_count": 2,
     "metadata": {},
     "output_type": "execute_result"
    }
   ],
   "source": [
    "dataframe = pd.read_csv('data/comprar_alquilar.csv')\n",
    "dataframe.head(10)"
   ]
  },
  {
   "cell_type": "code",
   "execution_count": 3,
   "metadata": {},
   "outputs": [
    {
     "name": "stdout",
     "output_type": "stream",
     "text": [
      "<class 'pandas.core.frame.DataFrame'>\n",
      "RangeIndex: 202 entries, 0 to 201\n",
      "Data columns (total 10 columns):\n",
      " #   Column          Non-Null Count  Dtype\n",
      "---  ------          --------------  -----\n",
      " 0   ingresos        202 non-null    int64\n",
      " 1   gastos_comunes  202 non-null    int64\n",
      " 2   pago_coche      202 non-null    int64\n",
      " 3   gastos_otros    202 non-null    int64\n",
      " 4   ahorros         202 non-null    int64\n",
      " 5   vivienda        202 non-null    int64\n",
      " 6   estado_civil    202 non-null    int64\n",
      " 7   hijos           202 non-null    int64\n",
      " 8   trabajo         202 non-null    int64\n",
      " 9   comprar         202 non-null    int64\n",
      "dtypes: int64(10)\n",
      "memory usage: 15.9 KB\n"
     ]
    }
   ],
   "source": [
    "dataframe.info()"
   ]
  },
  {
   "cell_type": "code",
   "execution_count": 4,
   "metadata": {},
   "outputs": [
    {
     "data": {
      "text/html": [
       "<div>\n",
       "<style scoped>\n",
       "    .dataframe tbody tr th:only-of-type {\n",
       "        vertical-align: middle;\n",
       "    }\n",
       "\n",
       "    .dataframe tbody tr th {\n",
       "        vertical-align: top;\n",
       "    }\n",
       "\n",
       "    .dataframe thead th {\n",
       "        text-align: right;\n",
       "    }\n",
       "</style>\n",
       "<table border=\"1\" class=\"dataframe\">\n",
       "  <thead>\n",
       "    <tr style=\"text-align: right;\">\n",
       "      <th></th>\n",
       "      <th>ingresos</th>\n",
       "      <th>gastos_comunes</th>\n",
       "      <th>pago_coche</th>\n",
       "      <th>gastos_otros</th>\n",
       "      <th>ahorros</th>\n",
       "      <th>vivienda</th>\n",
       "      <th>estado_civil</th>\n",
       "      <th>hijos</th>\n",
       "      <th>trabajo</th>\n",
       "      <th>comprar</th>\n",
       "    </tr>\n",
       "  </thead>\n",
       "  <tbody>\n",
       "    <tr>\n",
       "      <th>count</th>\n",
       "      <td>202.000000</td>\n",
       "      <td>202.000000</td>\n",
       "      <td>202.000000</td>\n",
       "      <td>202.000000</td>\n",
       "      <td>202.000000</td>\n",
       "      <td>202.000000</td>\n",
       "      <td>202.000000</td>\n",
       "      <td>202.000000</td>\n",
       "      <td>202.000000</td>\n",
       "      <td>202.000000</td>\n",
       "    </tr>\n",
       "    <tr>\n",
       "      <th>mean</th>\n",
       "      <td>4958.995050</td>\n",
       "      <td>971.584158</td>\n",
       "      <td>211.742574</td>\n",
       "      <td>515.425743</td>\n",
       "      <td>38749.668317</td>\n",
       "      <td>373349.638614</td>\n",
       "      <td>1.024752</td>\n",
       "      <td>1.232673</td>\n",
       "      <td>4.490099</td>\n",
       "      <td>0.331683</td>\n",
       "    </tr>\n",
       "    <tr>\n",
       "      <th>std</th>\n",
       "      <td>1682.862556</td>\n",
       "      <td>272.106351</td>\n",
       "      <td>124.940754</td>\n",
       "      <td>168.103075</td>\n",
       "      <td>17365.231870</td>\n",
       "      <td>136371.525622</td>\n",
       "      <td>0.837184</td>\n",
       "      <td>1.367833</td>\n",
       "      <td>2.535794</td>\n",
       "      <td>0.471988</td>\n",
       "    </tr>\n",
       "    <tr>\n",
       "      <th>min</th>\n",
       "      <td>2008.000000</td>\n",
       "      <td>384.000000</td>\n",
       "      <td>0.000000</td>\n",
       "      <td>201.000000</td>\n",
       "      <td>10319.000000</td>\n",
       "      <td>176553.000000</td>\n",
       "      <td>0.000000</td>\n",
       "      <td>0.000000</td>\n",
       "      <td>0.000000</td>\n",
       "      <td>0.000000</td>\n",
       "    </tr>\n",
       "    <tr>\n",
       "      <th>25%</th>\n",
       "      <td>3513.750000</td>\n",
       "      <td>766.750000</td>\n",
       "      <td>99.000000</td>\n",
       "      <td>383.250000</td>\n",
       "      <td>24964.250000</td>\n",
       "      <td>274810.000000</td>\n",
       "      <td>0.000000</td>\n",
       "      <td>0.000000</td>\n",
       "      <td>2.000000</td>\n",
       "      <td>0.000000</td>\n",
       "    </tr>\n",
       "    <tr>\n",
       "      <th>50%</th>\n",
       "      <td>4947.500000</td>\n",
       "      <td>968.000000</td>\n",
       "      <td>208.500000</td>\n",
       "      <td>522.500000</td>\n",
       "      <td>38523.000000</td>\n",
       "      <td>340783.500000</td>\n",
       "      <td>1.000000</td>\n",
       "      <td>1.000000</td>\n",
       "      <td>5.000000</td>\n",
       "      <td>0.000000</td>\n",
       "    </tr>\n",
       "    <tr>\n",
       "      <th>75%</th>\n",
       "      <td>6374.500000</td>\n",
       "      <td>1165.250000</td>\n",
       "      <td>318.750000</td>\n",
       "      <td>656.750000</td>\n",
       "      <td>52150.750000</td>\n",
       "      <td>444482.000000</td>\n",
       "      <td>2.000000</td>\n",
       "      <td>2.000000</td>\n",
       "      <td>7.000000</td>\n",
       "      <td>1.000000</td>\n",
       "    </tr>\n",
       "    <tr>\n",
       "      <th>max</th>\n",
       "      <td>7984.000000</td>\n",
       "      <td>1585.000000</td>\n",
       "      <td>448.000000</td>\n",
       "      <td>828.000000</td>\n",
       "      <td>69934.000000</td>\n",
       "      <td>669540.000000</td>\n",
       "      <td>2.000000</td>\n",
       "      <td>4.000000</td>\n",
       "      <td>8.000000</td>\n",
       "      <td>1.000000</td>\n",
       "    </tr>\n",
       "  </tbody>\n",
       "</table>\n",
       "</div>"
      ],
      "text/plain": [
       "          ingresos  gastos_comunes  pago_coche  gastos_otros       ahorros  \\\n",
       "count   202.000000      202.000000  202.000000    202.000000    202.000000   \n",
       "mean   4958.995050      971.584158  211.742574    515.425743  38749.668317   \n",
       "std    1682.862556      272.106351  124.940754    168.103075  17365.231870   \n",
       "min    2008.000000      384.000000    0.000000    201.000000  10319.000000   \n",
       "25%    3513.750000      766.750000   99.000000    383.250000  24964.250000   \n",
       "50%    4947.500000      968.000000  208.500000    522.500000  38523.000000   \n",
       "75%    6374.500000     1165.250000  318.750000    656.750000  52150.750000   \n",
       "max    7984.000000     1585.000000  448.000000    828.000000  69934.000000   \n",
       "\n",
       "            vivienda  estado_civil       hijos     trabajo     comprar  \n",
       "count     202.000000    202.000000  202.000000  202.000000  202.000000  \n",
       "mean   373349.638614      1.024752    1.232673    4.490099    0.331683  \n",
       "std    136371.525622      0.837184    1.367833    2.535794    0.471988  \n",
       "min    176553.000000      0.000000    0.000000    0.000000    0.000000  \n",
       "25%    274810.000000      0.000000    0.000000    2.000000    0.000000  \n",
       "50%    340783.500000      1.000000    1.000000    5.000000    0.000000  \n",
       "75%    444482.000000      2.000000    2.000000    7.000000    1.000000  \n",
       "max    669540.000000      2.000000    4.000000    8.000000    1.000000  "
      ]
     },
     "execution_count": 4,
     "metadata": {},
     "output_type": "execute_result"
    }
   ],
   "source": [
    "dataframe.describe()"
   ]
  },
  {
   "cell_type": "markdown",
   "metadata": {},
   "source": [
    "### Visualicemos las dimensiones\n",
    "Realiza un análisis univariante. Realiza la gráfica que consideres para cada varaible, diferenciando por colores el target (*comprar*)."
   ]
  },
  {
   "cell_type": "code",
   "execution_count": 5,
   "metadata": {
    "ExecuteTime": {
     "end_time": "2018-10-08T14:32:41.251348Z",
     "start_time": "2018-10-08T14:32:36.791824Z"
    }
   },
   "outputs": [
    {
     "data": {
      "image/png": "[encoded data removed]",
      "text/plain": [
       "<Figure size 864x648 with 10 Axes>"
      ]
     },
     "metadata": {},
     "output_type": "display_data"
    }
   ],
   "source": [
    "fig,axes =plt.subplots(5,2, figsize=(12, 9)) # 2 columnas cada una con 5 figuras, total 10 features\n",
    "alquilar=dataframe[dataframe['comprar']==0] # conviene alquilar casa\n",
    "comprar=dataframe[dataframe['comprar']==1] # conviene comprar casa\n",
    "ax=axes.ravel()\n",
    "for i in range(len(dataframe.columns)):\n",
    "  _,bins=np.histogram(dataframe[dataframe.columns[i]],bins=40)\n",
    "  ax[i].hist(alquilar.values[:,i],bins=bins,color='r',alpha=.5)# rojo alquilar\n",
    "  ax[i].hist(comprar.values[:,i],bins=bins,color='g',alpha=0.3)# verde para comprar\n",
    "  ax[i].set_title(dataframe.columns[i],fontsize=9)\n",
    "  ax[i].axes.get_xaxis().set_visible(False)\n",
    "  ax[i].set_yticks(())\n",
    "ax[0].legend(['alquilar','comprar'],loc='best',fontsize=8)\n",
    "plt.tight_layout()\n",
    "plt.show()"
   ]
  },
  {
   "cell_type": "markdown",
   "metadata": {},
   "source": [
    "## Estandariza los datos\n",
    "Como el objetivo de estos primeros apartados no es encontrar el mejor modelo con el mejor accuracy, por sencillez, no es necesario dividir en train y test."
   ]
  },
  {
   "cell_type": "code",
   "execution_count": 6,
   "metadata": {
    "ExecuteTime": {
     "end_time": "2018-10-08T14:32:41.912248Z",
     "start_time": "2018-10-08T14:32:41.895141Z"
    }
   },
   "outputs": [],
   "source": [
    "df = dataframe.drop(['comprar'], axis=1)\n",
    "\n",
    "scaler = StandardScaler()\n",
    "scaler.fit(df)\n",
    "X_scaled = scaler.transform(df)"
   ]
  },
  {
   "cell_type": "markdown",
   "metadata": {},
   "source": [
    "## Aplicamos PCA\n",
    "Aplica el algoritmo de PCA para 9 components, es decir, para todas las features"
   ]
  },
  {
   "cell_type": "code",
   "execution_count": 8,
   "metadata": {
    "ExecuteTime": {
     "end_time": "2018-10-08T14:32:41.946179Z",
     "start_time": "2018-10-08T14:32:41.915977Z"
    }
   },
   "outputs": [],
   "source": [
    "pca = PCA(n_components=9)\n",
    "pca.fit(X_scaled)\n",
    "X_pca = pca.transform(X_scaled)"
   ]
  },
  {
   "cell_type": "markdown",
   "metadata": {},
   "source": [
    "### Veamos cuántos buenos predictores son las nuevas dimensiones\n",
    "Responde a las siguientes preguntas:\n",
    "1. ¿Cuánta varianza explica cada Principal Component?\n",
    "2. ¿Y de manera acumulada empezando por el PC1?\n",
    "3. ¿Cuánta varianza explicarían sólo 5 componentes?"
   ]
  },
  {
   "cell_type": "code",
   "execution_count": 12,
   "metadata": {
    "ExecuteTime": {
     "end_time": "2018-10-08T14:32:41.967301Z",
     "start_time": "2018-10-08T14:32:41.949323Z"
    }
   },
   "outputs": [
    {
     "name": "stdout",
     "output_type": "stream",
     "text": [
      "[0.29913557 0.23294923 0.11711241 0.10685622 0.09635279 0.05629866\n",
      " 0.04145579 0.03017819 0.01966115]\n",
      "suma 5 0.8524062117714309\n",
      "suma acumulada [0.29913557 0.5320848  0.64919721 0.75605343 0.85240621 0.90870487\n",
      " 0.95016066 0.98033885 1.        ]\n"
     ]
    }
   ],
   "source": [
    "expl = pca.explained_variance_ratio_\n",
    "print(expl)\n",
    "print('suma 5', np.sum(expl[0:5]))\n",
    "print('suma acumulada', np.cumsum(expl))"
   ]
  },
  {
   "cell_type": "markdown",
   "metadata": {},
   "source": [
    "### Graficamos la variacion explicada acumulada\n",
    "Representa en un diagrama de lineas la evolución de la varianza acumulada en función de los PC"
   ]
  },
  {
   "cell_type": "code",
   "execution_count": 13,
   "metadata": {
    "ExecuteTime": {
     "end_time": "2018-10-08T14:32:42.230724Z",
     "start_time": "2018-10-08T14:32:41.978652Z"
    }
   },
   "outputs": [
    {
     "data": {
      "image/png": "[encoded data removed]",
      "text/plain": [
       "<Figure size 1152x648 with 1 Axes>"
      ]
     },
     "metadata": {},
     "output_type": "display_data"
    }
   ],
   "source": [
    "plt.plot(np.cumsum(expl))\n",
    "plt.xlabel('num of components')\n",
    "plt.ylabel('cumulativa explained variance');"
   ]
  },
  {
   "cell_type": "markdown",
   "metadata": {},
   "source": [
    "### Veamos la correlación entre las nuevas componentes y las dimensiones originales\n",
    "Representa en un mapa de calor los PCA vs las variables originales. Esta información la puedes obtener del atributo de PCA *components_*."
   ]
  },
  {
   "cell_type": "code",
   "execution_count": 14,
   "metadata": {
    "ExecuteTime": {
     "end_time": "2018-10-08T14:32:42.848773Z",
     "start_time": "2018-10-08T14:32:42.531140Z"
    }
   },
   "outputs": [
    {
     "data": {
      "image/png": "[encoded data removed]",
      "text/plain": [
       "<Figure size 1152x640 with 2 Axes>"
      ]
     },
     "metadata": {},
     "output_type": "display_data"
    }
   ],
   "source": [
    "plt.matshow(pca.components_[0:5],cmap='viridis')\n",
    "plt.yticks([0,1,2,3,4],['1st Comp','2nd Comp','3rd Comp','4th Comp','5th Comp'],fontsize=10)\n",
    "plt.colorbar()\n",
    "plt.xticks(range(len(df.columns)),df.columns,rotation=65,ha='left')\n",
    "#plt.tight_layout()\n",
    "plt.show()# "
   ]
  },
  {
   "cell_type": "markdown",
   "metadata": {},
   "source": [
    "## Predicciones\n",
    "1. Divide en train y test\n",
    "2. Prepara un pipeline compuesto por:\n",
    "    - StandardScaler,\n",
    "    - PCA de 5 componentes\n",
    "    - KNN con 3 vecinos\n",
    "3. Entrena\n",
    "4. Predice en test\n",
    "5. Calcula el accuracy score en train y test\n",
    "6. Representa la matriz de confusión\n",
    "7. ¿Qué combinación de vecinos y componentes mejoraría el accuracy en test?"
   ]
  },
  {
   "cell_type": "code",
   "execution_count": 15,
   "metadata": {},
   "outputs": [],
   "source": [
    "X = dataframe.drop('comprar', 1)\n",
    "y = dataframe['comprar']\n",
    "\n",
    "X_train, X_test, y_train, y_test = train_test_split(X,\n",
    "                                                    y,\n",
    "                                                    test_size=0.2,\n",
    "                                                    random_state=42)"
   ]
  },
  {
   "cell_type": "code",
   "execution_count": 16,
   "metadata": {},
   "outputs": [
    {
     "data": {
      "text/plain": [
       "array([1, 1, 1, 0, 0, 1, 0, 0, 0, 0, 0, 0, 0, 1, 1, 0, 0, 0, 0, 0, 1, 1,\n",
       "       0, 0, 0, 0, 0, 0, 1, 0, 1, 0, 0, 0, 0, 1, 0, 1, 1, 0, 0],\n",
       "      dtype=int64)"
      ]
     },
     "execution_count": 16,
     "metadata": {},
     "output_type": "execute_result"
    }
   ],
   "source": [
    "pipe = Pipeline(steps=[\n",
    "    ('scaler', StandardScaler()),\n",
    "    ('pca', PCA(n_components=5)),\n",
    "    ('knn', KNeighborsClassifier(n_neighbors=3))\n",
    "])\n",
    "\n",
    "pipe.fit(X_train, y_train)\n",
    "\n",
    "pipe.predict(X_test)"
   ]
  },
  {
   "cell_type": "code",
   "execution_count": 18,
   "metadata": {},
   "outputs": [
    {
     "name": "stdout",
     "output_type": "stream",
     "text": [
      "Accuracy 0.7560975609756098\n"
     ]
    }
   ],
   "source": [
    "print('Accuracy', pipe.score(X_test, y_test))"
   ]
  },
  {
   "cell_type": "code",
   "execution_count": 20,
   "metadata": {},
   "outputs": [
    {
     "data": {
      "text/plain": [
       "array([[21,  7],\n",
       "       [ 3, 10]], dtype=int64)"
      ]
     },
     "execution_count": 20,
     "metadata": {},
     "output_type": "execute_result"
    }
   ],
   "source": [
    "confusion_matrix(pipe.predict(X_test), y_test)"
   ]
  },
  {
   "cell_type": "code",
   "execution_count": 21,
   "metadata": {},
   "outputs": [
    {
     "data": {
      "text/plain": [
       "GridSearchCV(cv=10,\n",
       "             estimator=Pipeline(steps=[('scaler', StandardScaler()),\n",
       "                                       ('pca', PCA(n_components=5)),\n",
       "                                       ('knn',\n",
       "                                        KNeighborsClassifier(n_neighbors=3))]),\n",
       "             param_grid={'knn__n_neighbors': [1, 2, 3, 4, 5, 6, 7, 8, 9],\n",
       "                         'pca__n_components': [1, 2, 3, 4, 5, 6, 7, 8, 9]})"
      ]
     },
     "execution_count": 21,
     "metadata": {},
     "output_type": "execute_result"
    }
   ],
   "source": [
    "params = {\n",
    "    \"pca__n_components\": list(range(1,10)),\n",
    "    \"knn__n_neighbors\": list(range(1,10))\n",
    "}\n",
    "\n",
    "# Gridsearch\n",
    "gsearch = GridSearchCV(pipe,\n",
    "                      params,\n",
    "                      cv=10)\n",
    "\n",
    "gsearch.fit(X_train, y_train)"
   ]
  },
  {
   "cell_type": "code",
   "execution_count": 22,
   "metadata": {},
   "outputs": [
    {
     "name": "stdout",
     "output_type": "stream",
     "text": [
      "Pipeline(steps=[('scaler', StandardScaler()), ('pca', PCA(n_components=8)),\n",
      "                ('knn', KNeighborsClassifier(n_neighbors=7))])\n",
      "{'knn__n_neighbors': 7, 'pca__n_components': 8}\n",
      "Accuracy train: 0.906832298136646\n",
      "Accuracy test: 0.8048780487804879\n"
     ]
    }
   ],
   "source": [
    "estimator = gsearch.best_estimator_\n",
    "print(estimator)\n",
    "print(gsearch.best_params_)\n",
    "\n",
    "print(\"Accuracy train:\", estimator.score(X_train, y_train))\n",
    "print(\"Accuracy test:\", estimator.score(X_test, y_test))"
   ]
  }
 ],
 "metadata": {
  "kernelspec": {
   "display_name": "Python 3",
   "language": "python",
   "name": "python3"
  },
  "language_info": {
   "codemirror_mode": {
    "name": "ipython",
    "version": 3
   },
   "file_extension": ".py",
   "mimetype": "text/x-python",
   "name": "python",
   "nbconvert_exporter": "python",
   "pygments_lexer": "ipython3",
   "version": "3.8.5"
  }
 },
 "nbformat": 4,
 "nbformat_minor": 4
}
