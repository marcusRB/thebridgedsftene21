{
 "cells": [
  {
   "cell_type": "markdown",
   "metadata": {},
   "source": [
    "# Python Interactive Maps with Folium"
   ]
  },
  {
   "cell_type": "markdown",
   "metadata": {},
   "source": [
    "# Notes"
   ]
  },
  {
   "cell_type": "markdown",
   "metadata": {},
   "source": [
    "* folium is similar to ipyleaflet but different in some functionaly and syntax\n",
    "* for install instructions go to python.org, python package index, search for folium"
   ]
  },
  {
   "cell_type": "markdown",
   "metadata": {},
   "source": [
    "# Data Files"
   ]
  },
  {
   "cell_type": "markdown",
   "metadata": {},
   "source": [
    "* indiana_outline_map.geojson\n",
    "* sales_region1.geojson\n",
    "* sales_region2.geojson\n",
    "* sales_region3.geojson\n",
    "* geojson_indianacounties.geojson\n",
    "* indiana_population_by_county.csv\n",
    "* flags_of_africa.png (from Wikipedia)"
   ]
  },
  {
   "cell_type": "markdown",
   "metadata": {},
   "source": [
    "# Documentation"
   ]
  },
  {
   "cell_type": "code",
   "execution_count": null,
   "metadata": {},
   "outputs": [],
   "source": [
    "from IPython.display import IFrame\n",
    "documentation = IFrame(src='https://python-visualization.github.io/folium/', width=1000, height=500)\n",
    "display(documentation)"
   ]
  },
  {
   "cell_type": "markdown",
   "metadata": {},
   "source": [
    "# Imports"
   ]
  },
  {
   "cell_type": "code",
   "execution_count": null,
   "metadata": {},
   "outputs": [],
   "source": [
    "import folium # pip install folium\n",
    "from folium import plugins\n",
    "import ipywidgets\n",
    "import geocoder # pip install geocoder\n",
    "import geopy # pip install geopy\n",
    "import numpy as np\n",
    "import pandas as pd\n",
    "from vega_datasets import data as vds # pip install vega_datasets"
   ]
  },
  {
   "cell_type": "markdown",
   "metadata": {},
   "source": [
    "# Basic Maps"
   ]
  },
  {
   "cell_type": "code",
   "execution_count": null,
   "metadata": {
    "jupyter": {
     "outputs_hidden": true
    }
   },
   "outputs": [],
   "source": []
  },
  {
   "cell_type": "code",
   "execution_count": null,
   "metadata": {},
   "outputs": [],
   "source": []
  },
  {
   "cell_type": "code",
   "execution_count": null,
   "metadata": {},
   "outputs": [],
   "source": []
  },
  {
   "cell_type": "code",
   "execution_count": null,
   "metadata": {},
   "outputs": [],
   "source": [
    "# another way to change map size\n",
    "\n",
    "from branca.element import Figure\n",
    "\n",
    "fig = Figure(width=500, height=300)\n",
    "fig.add_child(map1)\n",
    "fig"
   ]
  },
  {
   "cell_type": "markdown",
   "metadata": {},
   "source": [
    "# Save Map"
   ]
  },
  {
   "cell_type": "code",
   "execution_count": null,
   "metadata": {},
   "outputs": [],
   "source": []
  },
  {
   "cell_type": "markdown",
   "metadata": {},
   "source": [
    "# Map Types"
   ]
  },
  {
   "cell_type": "code",
   "execution_count": null,
   "metadata": {},
   "outputs": [],
   "source": [
    "# widget\n",
    "select_widget=ipywidgets.Select(\n",
    "    options=['Open Street Map', 'Terrain', 'Toner', 'Watercolor', 'Positron', 'Dark Matter'],\n",
    "    value='Open Street Map',\n",
    "    description='Map Type:',\n",
    "    disabled=False)\n",
    "\n",
    "# widget function\n",
    "def select(map_type):\n",
    "    if map_type == 'Open Street Map':\n",
    "        display(folium.Map(location=[40.416719, -3.684016], zoom_start=12, height=500))\n",
    "    if map_type == 'Terrain':\n",
    "        display(folium.Map(location=[40.416719, -3.684016], tiles='Stamen Terrain', zoom_start=12, height=400))\n",
    "    if map_type == 'Toner':\n",
    "        display(folium.Map(location=[40.416719, -3.684016], tiles='Stamen Toner', zoom_start=12, height=400))\n",
    "    if map_type == 'Watercolor':\n",
    "        display(folium.Map(location=[40.416719, -3.684016], tiles='Stamen Watercolor', zoom_start=12, height=400))\n",
    "    if map_type == 'Positron':\n",
    "        display(folium.Map(location=[40.416719, -3.684016], tiles='CartoDB Positron', zoom_start=12, height=400))\n",
    "    if map_type == 'Dark Matter':\n",
    "        display(folium.Map(location=[40.416719, -3.684016], tiles='CartoDB Dark_Matter', zoom_start=12, height=400))\n",
    "        \n",
    "# interaction between widgets and function    \n",
    "ipywidgets.interact(select, map_type=select_widget);"
   ]
  },
  {
   "cell_type": "code",
   "execution_count": null,
   "metadata": {},
   "outputs": [],
   "source": [
    "# show map types using layer control\n",
    "# Layers: https://deparkes.co.uk/2016/06/10/folium-map-tiles/\n",
    "\n",
    "# map\n",
    "map_layer_control = folium.Map(location=[40.416719, -3.684016], zoom_start=12)\n",
    "\n",
    "# add tiles to map\n",
    "folium.raster_layers.TileLayer('Open Street Map').add_to(map_layer_control)\n",
    "folium.raster_layers.TileLayer('Stamen Terrain').add_to(map_layer_control)\n",
    "folium.raster_layers.TileLayer('Stamen Toner').add_to(map_layer_control)\n",
    "folium.raster_layers.TileLayer('Stamen Watercolor').add_to(map_layer_control)\n",
    "folium.raster_layers.TileLayer('CartoDB Positron').add_to(map_layer_control)\n",
    "folium.raster_layers.TileLayer('CartoDB Dark_Matter').add_to(map_layer_control)\n",
    "\n",
    "# add layer control to show different maps\n",
    "folium.LayerControl().add_to(map_layer_control)\n",
    "\n",
    "# display map\n",
    "map_layer_control"
   ]
  },
  {
   "cell_type": "code",
   "execution_count": null,
   "metadata": {},
   "outputs": [],
   "source": []
  },
  {
   "cell_type": "markdown",
   "metadata": {},
   "source": [
    "# Markers"
   ]
  },
  {
   "cell_type": "code",
   "execution_count": null,
   "metadata": {},
   "outputs": [],
   "source": [
    "folium.Marker?"
   ]
  },
  {
   "cell_type": "code",
   "execution_count": null,
   "metadata": {},
   "outputs": [],
   "source": [
    "# geocode address and place marker on map\n",
    "\n",
    "# map\n",
    "map_madrid = folium.Map(location=[40.418759, -3.688986], zoom_start=14)\n",
    "\n",
    "# get location information for address.\n",
    "\n",
    "\n",
    "# address latitude and longitude\n",
    "\n",
    "\n",
    "# add marker to map\n",
    "\n",
    "\n",
    "# display map\n",
    "display(map_madrid)"
   ]
  },
  {
   "cell_type": "code",
   "execution_count": null,
   "metadata": {},
   "outputs": [],
   "source": [
    "# airports dataframe using vega_datasets\n"
   ]
  },
  {
   "cell_type": "code",
   "execution_count": null,
   "metadata": {},
   "outputs": [],
   "source": [
    "# multiple markers using dataframe\n",
    "# there is an example below using apply function instead of loop\n",
    "\n",
    "# create map\n",
    "map_airports = folium.Map(location=[38, -98], zoom_start=4)\n",
    "\n",
    "# plot airport locations\n",
    "\n",
    "    \n",
    "# display map    \n",
    "map_airports"
   ]
  },
  {
   "cell_type": "code",
   "execution_count": null,
   "metadata": {},
   "outputs": [],
   "source": [
    "# markers with apply function\n",
    "\n",
    "# map\n",
    "map_airports2 = folium.Map(location=[38, -98], zoom_start=4)\n",
    "\n",
    "# plot airport locations using apply\n",
    "\n",
    "\n",
    "# display map\n",
    "map_airports2                                                "
   ]
  },
  {
   "cell_type": "code",
   "execution_count": null,
   "metadata": {},
   "outputs": [],
   "source": [
    "# multiple markers using dictionary\n",
    "\n",
    "markers_dict = {'Los Angeles': [34.041008, -118.246653], \n",
    "                'Las Vegas': [36.169726, -115.143996], \n",
    "                'Denver': [39.739448, -104.992450], \n",
    "                'Chicago': [41.878765, -87.643267], \n",
    "                'Manhattan': [40.782949, -73.969559]}\n",
    "\n",
    "# create map\n",
    "map_cities = folium.Map(location=[41, -99], zoom_start=4)\n",
    "\n",
    "# plot locations\n",
    "for i in markers_dict.items():\n",
    "    folium.Marker(location=i[1], popup=i[0]).add_to(map_cities)\n",
    "    print(i)\n",
    "\n",
    "# display map    \n",
    "map_cities"
   ]
  },
  {
   "cell_type": "markdown",
   "metadata": {},
   "source": [
    "# Custom Markers"
   ]
  },
  {
   "cell_type": "code",
   "execution_count": null,
   "metadata": {},
   "outputs": [],
   "source": [
    "folium.Icon?"
   ]
  },
  {
   "cell_type": "code",
   "execution_count": null,
   "metadata": {
    "scrolled": true
   },
   "outputs": [],
   "source": [
    "# map\n",
    "map_cm_fa = folium.Map(location=[38, -98], zoom_start=4)\n",
    "\n",
    "# add custom marker to map\n",
    "folium.Marker(location=[38, -98], \n",
    "              popup='popup', \n",
    "              icon=folium.Icon(color='green', icon='bolt', prefix='fa')).add_to(map_cm_fa)\n",
    "\n",
    "# display map\n",
    "map_cm_fa"
   ]
  },
  {
   "cell_type": "code",
   "execution_count": null,
   "metadata": {},
   "outputs": [],
   "source": [
    "# search for 'glyphicon bootstrap' icons to see examples\n",
    "\n",
    "# map\n",
    "map_cm_glyphicon = folium.Map(location=[38, -98], zoom_start=4)\n",
    "\n",
    "# add custom marker to map\n",
    "folium.Marker(location=[38, -98], \n",
    "              popup='popup', \n",
    "              icon=folium.Icon(icon='glyphicon-plane', prefix='glyphicon')).add_to(map_cm_glyphicon)\n",
    "\n",
    "# display map\n",
    "map_cm_glyphicon"
   ]
  },
  {
   "cell_type": "code",
   "execution_count": null,
   "metadata": {},
   "outputs": [],
   "source": [
    "# multiple custom markers\n",
    "\n",
    "# dataframe with custom marker names\n",
    "cm_df = pd.DataFrame({'city': ['Los Angeles', 'Las Vegas', 'Denver', 'Chicago', 'Manhattan'],\n",
    "                      'latitude': [34.041008, 36.169726, 39.739448, 41.878765, 40.782949],\n",
    "                      'longitude': [-118.246653, -115.143996, -104.992450, -87.643267, -73.969559],\n",
    "                      'icon': ['bicycle', 'car', 'bus', 'truck', 'motorcycle']})\n",
    "cm_df"
   ]
  },
  {
   "cell_type": "code",
   "execution_count": null,
   "metadata": {},
   "outputs": [],
   "source": [
    "# map\n",
    "map_cm_multiple = folium.Map(location=[38, -98], zoom_start=4)\n",
    "\n",
    "# add markers to map\n",
    "# for loop with itertuples (experiment that appears to work well)\n",
    "# can also use iterrows or dataframe apply\n",
    "\n",
    "for i in cm_df.itertuples():\n",
    "    folium.Marker(location=[i.latitude, i.longitude], \n",
    "                  popup=i.city,\n",
    "                  icon=folium.Icon(icon=i.icon, prefix='fa')).add_to(map_cm_multiple)\n",
    "\n",
    "# display map    \n",
    "map_cm_multiple"
   ]
  },
  {
   "cell_type": "code",
   "execution_count": null,
   "metadata": {},
   "outputs": [],
   "source": [
    "# enumerate markers\n",
    "\n",
    "# data\n",
    "cm_enum_df = pd.DataFrame({'city': ['Los Angeles', 'Las Vegas', 'Denver', 'Chicago', 'Manhattan'],\n",
    "                           'latitude': [34.041008, 36.169726, 39.739448, 41.878765, 40.782949],\n",
    "                           'longitude': [-118.246653, -115.143996, -104.992450, -87.643267, -73.969559],\n",
    "                           'icon_num': [1, 2, 3, 4, 5]})\n",
    "\n",
    "# map\n",
    "map_enum_icons = folium.Map([38, -98], zoom_start=4)\n",
    "\n",
    "# icons using plugins.BeautifyIcon\n",
    "for i in cm_enum_df.itertuples():\n",
    "    folium.Marker(location=[i.latitude, i.longitude],\n",
    "                  popup=i.city,\n",
    "                  icon=plugins.BeautifyIcon(number=i.icon_num,\n",
    "                                            border_color='blue',\n",
    "                                            border_width=1,\n",
    "                                            text_color='red',\n",
    "                                            inner_icon_style='margin-top:0px;')).add_to(map_enum_icons)\n",
    "\n",
    "# display map    \n",
    "map_enum_icons"
   ]
  },
  {
   "cell_type": "markdown",
   "metadata": {},
   "source": [
    "# Circle Markers"
   ]
  },
  {
   "cell_type": "code",
   "execution_count": null,
   "metadata": {},
   "outputs": [],
   "source": [
    "# map\n",
    "map_circle = folium.Map(location=[38, -98], zoom_start=4)\n",
    "\n",
    "# radius of the circle in meters\n",
    "\n",
    "# circle of a fixed size with radius specified in pixels\n",
    "\n",
    "# display map\n",
    "map_circle"
   ]
  },
  {
   "cell_type": "markdown",
   "metadata": {},
   "source": [
    "# Plot Route"
   ]
  },
  {
   "cell_type": "code",
   "execution_count": null,
   "metadata": {},
   "outputs": [],
   "source": [
    "# route\n",
    "\n",
    "# map\n",
    "map_plot_route = folium.Map(location=[38, -98], zoom_start=4)\n",
    "\n",
    "# route_locs = ['Los Angeles', 'Las Vegas', 'Denver', 'Chicago', 'Manhattan']\n",
    "# can use list of lists or list of tuples\n",
    "route_lats_longs = [[34.041008,-118.246653],\n",
    "                    [36.169726,-115.143996], \n",
    "                    [39.739448,-104.992450], \n",
    "                    [41.878765,-87.643267], \n",
    "                    [40.782949,-73.969559]]\n",
    "\n",
    "# add route to map\n",
    "#### CODE\n",
    "\n",
    "# display map\n",
    "map_plot_route"
   ]
  },
  {
   "cell_type": "code",
   "execution_count": null,
   "metadata": {},
   "outputs": [],
   "source": [
    "# ant path route\n",
    "# uses import - from folium import plugins\n",
    "\n",
    "# map\n",
    "map_ant_route = folium.Map(location=[38, -98], zoom_start=4)\n",
    "\n",
    "# add ant path route to map\n",
    "#### CODE\n",
    "\n",
    "# display map\n",
    "map_ant_route"
   ]
  },
  {
   "cell_type": "markdown",
   "metadata": {},
   "source": [
    "# Overlay GeoJSON Layers"
   ]
  },
  {
   "cell_type": "code",
   "execution_count": null,
   "metadata": {},
   "outputs": [],
   "source": [
    "# use a link or file\n",
    "# use geojson.io to create custom geojson files\n",
    "# can also use folium Draw control to create geojson files (example below)\n",
    "# convert shapefiles to geojson using QGIS\n",
    "\n",
    "# map\n",
    "map_geojson = folium.Map(location=[39.77, -86.15], zoom_start=7)\n",
    "\n",
    "# add geojson file to map\n",
    "#### CODE\n",
    "\n",
    "# add layer control to map (allows layer to be turned on or off)\n",
    "#### CODE\n",
    "\n",
    "# display map\n",
    "map_geojson"
   ]
  },
  {
   "cell_type": "markdown",
   "metadata": {},
   "source": [
    "# Subgroups with GeoJSON"
   ]
  },
  {
   "cell_type": "code",
   "execution_count": null,
   "metadata": {},
   "outputs": [],
   "source": [
    "# map\n",
    "map_with_subgroups = folium.Map(location=[39.77, -86.15], zoom_start=7)\n",
    "\n",
    "# all subgroups\n",
    "all_subgroups = folium.FeatureGroup(name='all sales regions')\n",
    "map_with_subgroups.add_child(all_subgroups)\n",
    "\n",
    "# subgroup 1\n",
    "sales_region1 = plugins.FeatureGroupSubGroup(all_subgroups, 'sales region 1')\n",
    "map_with_subgroups.add_child(sales_region1)\n",
    "\n",
    "# subgroup 2\n",
    "sales_region2 = plugins.FeatureGroupSubGroup(all_subgroups, 'sales region 2')\n",
    "map_with_subgroups.add_child(sales_region2)\n",
    "\n",
    "# subgroup 3\n",
    "sales_region3 = plugins.FeatureGroupSubGroup(all_subgroups, 'sales region 3')\n",
    "map_with_subgroups.add_child(sales_region3)\n",
    "\n",
    "# pull in geojson layers and add to map\n",
    "folium.GeoJson('sales_region1.geojson').add_to(sales_region1)\n",
    "folium.GeoJson('sales_region2.geojson').add_to(sales_region2)\n",
    "folium.GeoJson('sales_region3.geojson').add_to(sales_region3)\n",
    "\n",
    "# add layer control to map (allows layers to be turned on or off)\n",
    "folium.LayerControl(collapsed=False).add_to(map_with_subgroups)\n",
    "\n",
    "# display map\n",
    "map_with_subgroups"
   ]
  },
  {
   "cell_type": "markdown",
   "metadata": {},
   "source": [
    "# Choropleth Map"
   ]
  },
  {
   "cell_type": "code",
   "execution_count": null,
   "metadata": {},
   "outputs": [],
   "source": [
    "folium.Choropleth?"
   ]
  },
  {
   "cell_type": "code",
   "execution_count": null,
   "metadata": {},
   "outputs": [],
   "source": [
    "# more examples for choropleth maps in the documentation\n",
    "\n",
    "import json\n",
    "\n",
    "# load geo_json\n",
    "# shapefiles can be converted to geojson with QGIS\n",
    "#### CODE\n",
    "    \n",
    "# add feature 'id' county name to geojson\n",
    "# access features\n",
    "#### CODE\n",
    "    \n",
    "# load data associated with geo_json\n",
    "#### CODE\n",
    "\n",
    "# map    \n",
    "map_choropleth = folium.Map(location=[39.77, -86.15], zoom_start=7)\n",
    "\n",
    "# choropleth\n",
    "folium.Choropleth(\n",
    "    geo_data=geojson_counties,\n",
    "    name='choropleth',\n",
    "    data=pop_df,\n",
    "    columns=['County', 'Population'],\n",
    "    # see folium.Choropleth? for details on key_on\n",
    "    key_on='feature.id',\n",
    "    fill_color='YlGn',\n",
    "    fill_opacity=0.5,\n",
    "    line_opacity=0.5,\n",
    "    legend_name='Population',\n",
    "    highlight=True\n",
    ").add_to(map_choropleth)\n",
    "\n",
    "# layer control to turn choropleth on or off\n",
    "folium.LayerControl().add_to(map_choropleth)\n",
    "\n",
    "# display map\n",
    "map_choropleth"
   ]
  },
  {
   "cell_type": "markdown",
   "metadata": {},
   "source": [
    "# Heat Map"
   ]
  },
  {
   "cell_type": "code",
   "execution_count": null,
   "metadata": {},
   "outputs": [],
   "source": [
    "# use import geocoder\n",
    "\n",
    "# get location data for large cities (latitude and longitude)\n",
    "new_york_city = geocoder.osm('New York City, New York')\n",
    "los_angeles = geocoder.osm('Los Angeles, California')\n",
    "chicago = geocoder.osm('Chicago, Illinois')\n",
    "houston = geocoder.osm('Houston, Texas')\n",
    "phoenix = geocoder.osm('Phoenix, Arizona')\n",
    "philadelphia = geocoder.osm('Philadelphia, Pennsylvania')\n",
    "san_antonio = geocoder.osm('San Antonio, Texas')\n",
    "san_diego = geocoder.osm('San Diego, California')\n",
    "dallas = geocoder.osm('Dallas, Texas')\n",
    "san_jose = geocoder.osm('San Jose, California')\n",
    "\n",
    "# create latitude, longitude, intensity for heat map\n",
    "# intensity is population scaled down so heat dots are more readable\n",
    "new_york_city_latlng = [new_york_city.lat, new_york_city.lng, 8398748/1000]\n",
    "los_angeles_latlng = [los_angeles.lat, los_angeles.lng, 3990456/1000]\n",
    "chicago_latlng = [chicago.lat, chicago.lng, 2705994/1000]\n",
    "houston_latlng = [houston.lat, houston.lng, 2325502/1000]\n",
    "phoenix_latlng = [phoenix.lat, phoenix.lng, 1660272/1000]\n",
    "philadelphia_latlng = [philadelphia.lat, philadelphia.lng, 1584138/1000]\n",
    "san_antonio_latlng = [san_antonio.lat, san_antonio.lng, 1532233/1000]\n",
    "san_diego_latlng = [san_diego.lat, san_diego.lng, 1425976/1000]\n",
    "dallas_latlng = [dallas.lat, dallas.lng, 1345047/1000]\n",
    "san_jose_latlng = [san_jose.lat, san_jose.lng, 1030119/1000]\n",
    "\n",
    "# create list of cities with latitude, longitude, intensity\n",
    "large_cities = [new_york_city_latlng, los_angeles_latlng, chicago_latlng, houston_latlng, phoenix_latlng, \n",
    "                philadelphia_latlng, san_antonio_latlng, san_diego_latlng, dallas_latlng, san_jose_latlng]\n",
    "\n",
    "map_heatmap = folium.Map([40, -99], tiles='CartoDB Positron', zoom_start=4)\n",
    "\n",
    "plugins.HeatMap(large_cities).add_to(map_heatmap)\n",
    "\n",
    "map_heatmap"
   ]
  },
  {
   "cell_type": "code",
   "execution_count": null,
   "metadata": {},
   "outputs": [],
   "source": [
    "plugins.HeatMapWithTime?"
   ]
  },
  {
   "cell_type": "code",
   "execution_count": null,
   "metadata": {},
   "outputs": [],
   "source": [
    "# heat map over time\n",
    "\n",
    "# data\n",
    "# take note of data format needed for heat map with time (using plugins.HeatMapWithTime?)\n",
    "heatmap_time_data = (np.random.random((100,20,2)) + np.array([[39, -98]])).tolist()\n",
    "\n",
    "# dates\n",
    "heatmap_time_dates = [d.strftime('%Y-%m-%d') for d in pd.date_range('20160101', periods=len(heatmap_time_data))]\n",
    "\n",
    "# map\n",
    "map_heatmap_time = folium.Map([39, -98], tiles='CartoDB Dark_Matter', zoom_start=6)\n",
    "\n",
    "# heatmap plugin\n",
    "heatmap_time_plugin = plugins.HeatMapWithTime(heatmap_time_data, index=heatmap_time_dates)\n",
    "\n",
    "# add heatmap plugin to map\n",
    "heatmap_time_plugin.add_to(map_heatmap_time)\n",
    "\n",
    "# display map\n",
    "map_heatmap_time"
   ]
  },
  {
   "cell_type": "markdown",
   "metadata": {},
   "source": [
    "# Latitude and Longitude Tool"
   ]
  },
  {
   "cell_type": "code",
   "execution_count": null,
   "metadata": {},
   "outputs": [],
   "source": [
    "# map\n",
    "map_lat_long = folium.Map(location=[38, -98], zoom_start=4)\n",
    "\n",
    "# add latitude and longitude tool to map\n",
    "map_lat_long.add_child(folium.LatLngPopup())\n",
    "\n",
    "# display map\n",
    "map_lat_long"
   ]
  },
  {
   "cell_type": "markdown",
   "metadata": {},
   "source": [
    "# Measure Control"
   ]
  },
  {
   "cell_type": "code",
   "execution_count": null,
   "metadata": {},
   "outputs": [],
   "source": [
    "# map\n",
    "map_measure = folium.Map([40, -100], zoom_start=4)\n",
    "\n",
    "# measure control\n",
    "measure_control = plugins.MeasureControl(position='topleft', \n",
    "                                         active_color='red', \n",
    "                                         completed_color='red', \n",
    "                                         primary_length_unit='miles')\n",
    "\n",
    "# add measure control to map\n",
    "map_measure.add_child(measure_control)\n",
    "\n",
    "# display map\n",
    "map_measure"
   ]
  },
  {
   "cell_type": "code",
   "execution_count": null,
   "metadata": {},
   "outputs": [],
   "source": [
    "plugins.MeasureControl?"
   ]
  },
  {
   "cell_type": "markdown",
   "metadata": {},
   "source": [
    "# Dual Map"
   ]
  },
  {
   "cell_type": "code",
   "execution_count": null,
   "metadata": {},
   "outputs": [],
   "source": [
    "# dual map\n",
    "map_dual = plugins.DualMap(location=[40, -98], tiles=None, zoom_start=4)\n",
    "\n",
    "# map tiles\n",
    "folium.TileLayer('Stamen Terrain').add_to(map_dual)\n",
    "folium.TileLayer('CartoDB Positron').add_to(map_dual)\n",
    "\n",
    "# add layer control to maps\n",
    "folium.LayerControl().add_to(map_dual)\n",
    "\n",
    "# display map(s)\n",
    "map_dual"
   ]
  },
  {
   "cell_type": "markdown",
   "metadata": {},
   "source": [
    "# Draw"
   ]
  },
  {
   "cell_type": "code",
   "execution_count": null,
   "metadata": {
    "scrolled": false
   },
   "outputs": [],
   "source": [
    "# map\n",
    "map_draw = folium.Map(location=[40, -99], zoom_start=4)\n",
    "\n",
    "# draw tools\n",
    "# export=True exports the drawn shapes as a geojson file\n",
    "draw = plugins.Draw(export=True)\n",
    "\n",
    "# add draw tools to map\n",
    "draw.add_to(map_draw)\n",
    "\n",
    "# display map\n",
    "map_draw"
   ]
  },
  {
   "cell_type": "code",
   "execution_count": null,
   "metadata": {},
   "outputs": [],
   "source": [
    "plugins.Draw?"
   ]
  },
  {
   "cell_type": "markdown",
   "metadata": {},
   "source": [
    "# Overlay Image"
   ]
  },
  {
   "cell_type": "code",
   "execution_count": null,
   "metadata": {},
   "outputs": [],
   "source": [
    "# map\n",
    "# map of Africa flags from Wikipedia\n",
    "map_img_overlay = folium.Map([2,22], zoom_start=3, tiles='CartoDB Positron')\n",
    "\n",
    "# image to overlay on map\n",
    "img_overlay = folium.raster_layers.ImageOverlay(name='flags of Africa', \n",
    "                                                image='flags_of_africa.png',\n",
    "                                                # bounds - [[lat_min, lon_min], [lat_max, lon_max]]\n",
    "                                                bounds=[[-38, -28], [40, 60]],\n",
    "                                                opacity=0.5,\n",
    "                                                # controls layer order\n",
    "                                                zindex=1)\n",
    "# add image to map\n",
    "img_overlay.add_to(map_img_overlay)\n",
    "\n",
    "# layer control to click layer on or off\n",
    "folium.LayerControl().add_to(map_img_overlay)\n",
    "\n",
    "# display map\n",
    "map_img_overlay"
   ]
  },
  {
   "cell_type": "markdown",
   "metadata": {},
   "source": [
    "# Charts in Popup"
   ]
  },
  {
   "cell_type": "code",
   "execution_count": null,
   "metadata": {},
   "outputs": [],
   "source": [
    "seattle_weather = vds.seattle_weather()\n",
    "seattle_weather.head()"
   ]
  },
  {
   "cell_type": "code",
   "execution_count": null,
   "metadata": {},
   "outputs": [],
   "source": [
    "# pip install altair\n",
    "# pip install vega\n",
    "\n",
    "import altair\n",
    "altair.renderers.enable('notebook')\n",
    "\n",
    "sw_means = pd.DataFrame({'seattle_x': ['precipitation', 'temp_max', 'temp_min', 'wind'],\n",
    "                         'seattle_y': [seattle_weather.precipitation.mean(),\n",
    "                                       seattle_weather.temp_max.mean(),\n",
    "                                       seattle_weather.temp_min.mean(),\n",
    "                                       seattle_weather.wind.mean()]})\n",
    "\n",
    "sw_bar = altair.Chart(sw_means, width=300).mark_bar().encode(\n",
    "    x='seattle_x',\n",
    "    y='seattle_y').properties(title='Seattle Weather Averages')\n",
    "\n",
    "sw_bar"
   ]
  },
  {
   "cell_type": "code",
   "execution_count": null,
   "metadata": {},
   "outputs": [],
   "source": [
    "# embed seattle weather data in marker corresponding to location\n",
    "\n",
    "# folium.features.VegaLite creates a Vega-Lite chart element\n",
    "vega = folium.features.VegaLite(sw_bar, width='100%', height='100%')\n",
    "\n",
    "# create map\n",
    "map_sw = folium.Map(location=[47.606322, -122.332575])\n",
    "\n",
    "# create marker on the map, with optional popup text or Vincent visualization\n",
    "sw_marker = folium.features.Marker([47.60, -122.33])\n",
    "\n",
    "# create popup\n",
    "sw_popup = folium.Popup()\n",
    "\n",
    "# add chart to popup\n",
    "vega.add_to(sw_popup)\n",
    "\n",
    "# add popup to marker\n",
    "sw_popup.add_to(sw_marker)\n",
    "\n",
    "# add marker to map\n",
    "sw_marker.add_to(map_sw)\n",
    "\n",
    "map_sw"
   ]
  },
  {
   "cell_type": "markdown",
   "metadata": {},
   "source": [
    "# Maps with Interactive Widgets"
   ]
  },
  {
   "cell_type": "code",
   "execution_count": null,
   "metadata": {},
   "outputs": [],
   "source": [
    "import geocoder\n",
    "import ipywidgets\n",
    "\n",
    "# text widget\n",
    "address_text_box = ipywidgets.Text(value='', placeholder='type here', description='address:')\n",
    "\n",
    "# widget function\n",
    "def plot_locations(address):\n",
    "    # location address\n",
    "    location = geocoder.osm(address)\n",
    "    \n",
    "    # latitude and longitude of location\n",
    "    latlng = [location.lat, location.lng]\n",
    "    \n",
    "    # create map\n",
    "    plot_locations_map = folium.Map(location=[40, -100], zoom_start=4)\n",
    "    \n",
    "    # marker\n",
    "    folium.Marker(latlng, popup=str(address), tooltip='click').add_to(plot_locations_map)\n",
    "    \n",
    "    # display map\n",
    "    display(plot_locations_map)\n",
    "    \n",
    "# interaction between widget and function    \n",
    "ipywidgets.interact_manual(plot_locations, address=address_text_box)\n",
    "\n",
    "'''\n",
    "test addresses\n",
    "4790 W 16th St, Indianapolis, IN 46222 (Indy 500 Track)\n",
    "2920 Zoo Dr, San Diego, CA 92101 (San Diego Zoo)\n",
    "1 Infinite Loop, Cupertino, CA 95014 (Apple)\n",
    "'''"
   ]
  },
  {
   "cell_type": "code",
   "execution_count": null,
   "metadata": {},
   "outputs": [],
   "source": [
    "import geopy.distance\n",
    "\n",
    "# text widgets\n",
    "route_start_widget = ipywidgets.Text(value='', placeholder='address', description='start:')\n",
    "route_stop_widget = ipywidgets.Text(value='', placeholder='address', description='stop:')\n",
    "\n",
    "# widget function\n",
    "def get_distance(start_address, stop_address):\n",
    "    \n",
    "    # string addresses to location information\n",
    "    start_location = geocoder.osm(start_address)\n",
    "    stop_location = geocoder.osm(stop_address)\n",
    "    \n",
    "    # pull out latitude and longitude from location information\n",
    "    start_latlng = [start_location.lat, start_location.lng]\n",
    "    stop_latlng = [stop_location.lat, stop_location.lng]\n",
    "    \n",
    "    # calculate distance from start point to stop point using latitudes and longitudes\n",
    "    distance = geopy.distance.distance(start_latlng, stop_latlng).miles\n",
    "    print(f'distance: {distance:.2f} miles')\n",
    "    \n",
    "    # map\n",
    "    distance_path = [(start_latlng), (stop_latlng)]\n",
    "    map_distance = folium.Map(location=[38, -98], zoom_start=4)\n",
    "    plugins.AntPath(distance_path).add_to(map_distance)\n",
    "    display(map_distance)\n",
    "    \n",
    "# interaction between widgets and function    \n",
    "ipywidgets.interact_manual(get_distance, start_address=route_start_widget, stop_address=route_stop_widget)\n",
    "\n",
    "# notice animation moves in the direction from start to stop and distance prints above map"
   ]
  },
  {
   "cell_type": "markdown",
   "metadata": {},
   "source": [
    "# Spain Choropleth"
   ]
  },
  {
   "cell_type": "code",
   "execution_count": null,
   "metadata": {},
   "outputs": [],
   "source": [
    "# MAPA DE TOTAL DE DECESOS \n",
    "#### CODE\n",
    " \n",
    "# Initialize the map:\n",
    "#### CODE\n",
    "\n",
    "# add tile layers to the map\n",
    "# con esto posibilito que luego en el mapa pueda elegir el 'tipo de vista'\n",
    "#### CODE\n",
    "    \n",
    " \n",
    "# Add the color for the chloropleth:\n",
    "m.choropleth(\n",
    " geo_data='provincias-espanolas.geojson',\n",
    " name='choropleth',\n",
    " data=data_total_mean,\n",
    " columns=['Comunidad Autónoma', 'Todas las causas'],\n",
    " key_on='feature.properties.ccaa',   # dentro del 'geojson', viendo su estructura de datos\n",
    " fill_color='BuPu',\n",
    " fill_opacity=0.7,\n",
    " line_opacity=0.2,\n",
    " legend_name='Decesos por comunidad autonoma'\n",
    ")\n",
    "folium.LayerControl().add_to(m)\n",
    "\n",
    "m"
   ]
  }
 ],
 "metadata": {
  "kernelspec": {
   "display_name": "Python 3",
   "language": "python",
   "name": "python3"
  },
  "language_info": {
   "codemirror_mode": {
    "name": "ipython",
    "version": 3
   },
   "file_extension": ".py",
   "mimetype": "text/x-python",
   "name": "python",
   "nbconvert_exporter": "python",
   "pygments_lexer": "ipython3",
   "version": "3.8.5"
  },
  "varInspector": {
   "cols": {
    "lenName": 16,
    "lenType": 16,
    "lenVar": 40
   },
   "kernels_config": {
    "python": {
     "delete_cmd_postfix": "",
     "delete_cmd_prefix": "del ",
     "library": "var_list.py",
     "varRefreshCmd": "print(var_dic_list())"
    },
    "r": {
     "delete_cmd_postfix": ") ",
     "delete_cmd_prefix": "rm(",
     "library": "var_list.r",
     "varRefreshCmd": "cat(var_dic_list()) "
    }
   },
   "types_to_exclude": [
    "module",
    "function",
    "builtin_function_or_method",
    "instance",
    "_Feature"
   ],
   "window_display": false
  }
 },
 "nbformat": 4,
 "nbformat_minor": 4
}
